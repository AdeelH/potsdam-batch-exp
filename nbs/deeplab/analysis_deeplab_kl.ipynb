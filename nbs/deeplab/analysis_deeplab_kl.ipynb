{
 "cells": [
  {
   "cell_type": "code",
   "execution_count": 2,
   "metadata": {},
   "outputs": [],
   "source": [
    "import os\n",
    "from pathlib import Path\n",
    "import glob\n",
    "from datetime import datetime\n",
    "\n",
    "import numpy as np\n",
    "import torch\n",
    "from torch import nn\n",
    "from torch import optim\n",
    "from torch.nn import functional as F\n",
    "import torch.utils\n",
    "import torchvision as tv\n",
    "from torchvision import transforms as tf\n",
    "\n",
    "from fastai.vision import *\n",
    "from fastai.metrics import error_rate\n",
    "\n",
    "import matplotlib.pyplot as plt\n",
    "%reload_ext autoreload\n",
    "%autoreload 2\n",
    "# %matplotlib inline"
   ]
  },
  {
   "cell_type": "code",
   "execution_count": 3,
   "metadata": {},
   "outputs": [],
   "source": [
    "import sys\n",
    "sys.path.append('../')"
   ]
  },
  {
   "cell_type": "code",
   "execution_count": 4,
   "metadata": {},
   "outputs": [],
   "source": [
    "from utils_ import *\n",
    "from io_ import *\n",
    "from data_ import *\n",
    "from transforms import *\n",
    "from models import *\n",
    "from training import *\n",
    "from visualizations import *\n",
    "from monitoring import *\n",
    "%reload_ext autoreload\n",
    "%autoreload 2"
   ]
  },
  {
   "cell_type": "code",
   "execution_count": 5,
   "metadata": {},
   "outputs": [],
   "source": [
    "CLASS_NAMES = ['building', 'tree', 'low-vegetation', 'clutter', 'car', 'pavement']\n",
    "NCLASSES = len(CLASS_NAMES)"
   ]
  },
  {
   "cell_type": "code",
   "execution_count": 6,
   "metadata": {},
   "outputs": [],
   "source": [
    "S3_BUCKET = 'raster-vision-ahassan'\n",
    "S3_ROOT = f'potsdam/experiments/output/tmp'"
   ]
  },
  {
   "cell_type": "code",
   "execution_count": 7,
   "metadata": {},
   "outputs": [],
   "source": [
    "io_handler = S3IoHandler(\n",
    "    local_root='tmp', \n",
    "    s3_bucket=S3_BUCKET, \n",
    "    s3_root=S3_ROOT\n",
    ")"
   ]
  },
  {
   "cell_type": "markdown",
   "metadata": {},
   "source": [
    "# Data"
   ]
  },
  {
   "cell_type": "code",
   "execution_count": null,
   "metadata": {},
   "outputs": [],
   "source": [
    "with open('../../potsdam/data/potsdam.pkl', 'rb') as f:\n",
    "    potsdam_dict = pickle.load(f)\n"
   ]
  },
  {
   "cell_type": "markdown",
   "metadata": {},
   "source": [
    "## Prepare datasets"
   ]
  },
  {
   "cell_type": "code",
   "execution_count": null,
   "metadata": {},
   "outputs": [],
   "source": [
    "CHIP_SIZE = 400\n",
    "STRIDE = 200\n",
    "DOWNSAMPLING = 2"
   ]
  },
  {
   "cell_type": "code",
   "execution_count": null,
   "metadata": {},
   "outputs": [],
   "source": [
    "CHANNELS = [ch_R, ch_G, ch_B, ch_IR, ch_E]\n",
    "_, val_transform, x_transform, y_transform = tfs_potsdam(channels=CHANNELS, downsampling=DOWNSAMPLING)\n",
    "original_ds = Potsdam(potsdam_dict, chip_size=CHIP_SIZE, stride=STRIDE, tf=val_transform)"
   ]
  },
  {
   "cell_type": "code",
   "execution_count": null,
   "metadata": {},
   "outputs": [],
   "source": [
    "CHANNELS = [ch_E]\n",
    "_, val_transform, x_transform, y_transform = tfs_potsdam(channels=CHANNELS, downsampling=DOWNSAMPLING)\n",
    "val_ds_e     = Potsdam(potsdam_dict, chip_size=CHIP_SIZE, stride=STRIDE, tf=val_transform  , x_tf=x_transform, y_tf=y_transform)\n",
    "\n",
    "CHANNELS = [ch_R, ch_G, ch_B]\n",
    "_, val_transform, x_transform, y_transform = tfs_potsdam(channels=CHANNELS, downsampling=DOWNSAMPLING)\n",
    "val_ds_rgb   = Potsdam(potsdam_dict, chip_size=CHIP_SIZE, stride=STRIDE, tf=val_transform  , x_tf=x_transform, y_tf=y_transform)\n",
    "\n",
    "CHANNELS = [ch_R, ch_G, ch_B, ch_E]\n",
    "_, val_transform, x_transform, y_transform = tfs_potsdam(channels=CHANNELS, downsampling=DOWNSAMPLING)\n",
    "val_ds_rgbe = Potsdam(potsdam_dict, chip_size=CHIP_SIZE, stride=STRIDE, tf=val_transform  , x_tf=x_transform, y_tf=y_transform)"
   ]
  },
  {
   "cell_type": "code",
   "execution_count": null,
   "metadata": {},
   "outputs": [],
   "source": [
    "TRAIN_SPLIT = 0.85\n",
    "train_split_size = int((len(original_ds) * TRAIN_SPLIT) // 1)\n",
    "val_split_size = len(original_ds) - train_split_size\n",
    "train_split_size, val_split_size\n",
    "\n",
    "print('train_split_size', train_split_size)\n",
    "print('val_split_size', val_split_size)\n",
    "\n",
    "inds = np.arange(len(original_ds))"
   ]
  },
  {
   "cell_type": "code",
   "execution_count": null,
   "metadata": {},
   "outputs": [],
   "source": [
    "train_sampler = torch.utils.data.SubsetRandomSampler(inds[:train_split_size])\n",
    "val_sampler = torch.utils.data.SubsetRandomSampler(inds[train_split_size:])\n",
    "\n",
    "assert len(set(train_sampler.indices) & set(val_sampler.indices)) == 0"
   ]
  },
  {
   "cell_type": "code",
   "execution_count": null,
   "metadata": {},
   "outputs": [],
   "source": [
    "val_iter = iter(val_sampler)"
   ]
  },
  {
   "cell_type": "markdown",
   "metadata": {},
   "source": [
    "# Models"
   ]
  },
  {
   "cell_type": "markdown",
   "metadata": {},
   "source": [
    "## RGB-E, merge after backbone"
   ]
  },
  {
   "cell_type": "code",
   "execution_count": null,
   "metadata": {},
   "outputs": [],
   "source": [
    "model_rgbe_bb = get_deeplab_custom(NCLASSES, in_channels=3, pretrained=True)\n",
    "model_e_tmp = get_deeplab_custom(NCLASSES, in_channels=1, pretrained=True)\n",
    "\n",
    "model_rgbe_bb.m.backbone = DeeplabDoublePartialBackbone(model_rgbe_bb.m.backbone, model_e_tmp.m.backbone, 4)\n",
    "model_rgbe_bb = model_rgbe_bb.cuda()"
   ]
  },
  {
   "cell_type": "code",
   "execution_count": null,
   "metadata": {},
   "outputs": [],
   "source": [
    "model_rgbe_bb.m.aux_classifier = None"
   ]
  },
  {
   "cell_type": "code",
   "execution_count": null,
   "metadata": {},
   "outputs": [],
   "source": [
    "name = 'ss_rgbp_ep_deeplab_resnet101p_merge_after_backbone_partial_4'"
   ]
  },
  {
   "cell_type": "code",
   "execution_count": null,
   "metadata": {},
   "outputs": [],
   "source": [
    "io_handler.load_model_weights(\n",
    "    model_rgbe_bb, \n",
    "    s3_path=f'potsdam/experiments/output/{name}/best_model/best_acc', \n",
    "    tgt_path=f'models/{name}'\n",
    ")"
   ]
  },
  {
   "cell_type": "code",
   "execution_count": null,
   "metadata": {},
   "outputs": [],
   "source": [
    "viz_conv_layer_filters(model_rgbe_bb.m.backbone.head[1][0][0].weight.data, show=True, normalize=True, scale_each=True, figsize=(6, 6))\n",
    "viz_conv_layer_filters(model_rgbe_bb.m.backbone.head[1][1][0].weight.data, show=True, normalize=True, scale_each=True, figsize=(6, 6))\n",
    "# viz_conv_layer_filters(model_rgbe_1x1[0][0].original_conv.weight.data, show=True, normalize=True, scale_each=True, figsize=(6, 6))\n"
   ]
  },
  {
   "cell_type": "markdown",
   "metadata": {},
   "source": [
    "# RGB only"
   ]
  },
  {
   "cell_type": "code",
   "execution_count": null,
   "metadata": {},
   "outputs": [],
   "source": [
    "model_rgb = get_deeplab_custom(NCLASSES, in_channels=3, pretrained=True).cuda()"
   ]
  },
  {
   "cell_type": "code",
   "execution_count": null,
   "metadata": {},
   "outputs": [],
   "source": [
    "name = 'ss_rgb_deeplab_resnet101p'\n",
    "io_handler.load_model_weights(\n",
    "    model_rgb, \n",
    "    s3_path=f'potsdam/experiments/output/{name}/best_model/best_acc', \n",
    "    tgt_path=f'models/{name}'\n",
    ")"
   ]
  },
  {
   "cell_type": "markdown",
   "metadata": {},
   "source": [
    "# KL Div"
   ]
  },
  {
   "cell_type": "code",
   "execution_count": null,
   "metadata": {},
   "outputs": [],
   "source": [
    "f = plt.figure(figsize=(20, 6))\n",
    "ax = f.add_subplot(141)\n",
    "ax.imshow(batch[0, :3].permute(1, 2, 0))\n",
    "ax.set_title(f'RGB, {val_idx}')\n",
    "# plt.imshow(batch[0, -1] * (labels == 4).float())\n",
    "ax = f.add_subplot(142)\n",
    "ax.imshow(batch[0, -1].log())\n",
    "ax.set_title('elevation (log)')\n",
    "\n",
    "ax = f.add_subplot(143)\n",
    "ax.imshow(labels)\n",
    "ax.set_title('Ground Truth')\n",
    "with torch.no_grad():\n",
    "    model_rgbe_bb.eval()\n",
    "    out_rgb = model_rgbe_bb(batch.cuda())\n",
    "ax = f.add_subplot(144)\n",
    "ax.imshow(out_rgb.permute(0, 2, 3, 1).argmax(dim=-1).squeeze())\n",
    "ax.set_title('Model Prediction')\n",
    "plt.show()\n",
    "\n",
    "g = gbp.gradients[0].permute(0, 2, 3, 1).squeeze().detach().cpu()\n",
    "gpos = g.clamp(min=0) / g.max()\n",
    "gneg = (-g).clamp(min=0) / (-g).max()\n",
    "\n",
    "f = plt.figure(figsize=(12, 5))\n",
    "f.suptitle('Elevation')\n",
    "f.tight_layout()\n",
    "f.subplots_adjust(top=0.88)\n",
    "ax = f.add_subplot(121)\n",
    "g = gbp.gradients[0].permute(0, 2, 3, 1).squeeze().detach().cpu()\n",
    "im = ax.imshow(gpos[:, :, -1], cmap='hot')\n",
    "ax.set_title('Positive saliency')\n",
    "# plt.colorbar(im, ax=ax)\n",
    "\n",
    "ax = f.add_subplot(122)\n",
    "im = ax.imshow(gneg[:, :, -1], cmap='hot')\n",
    "ax.set_title('Negative saliency')\n",
    "# plt.colorbar(im, ax=ax)\n",
    "plt.show()\n",
    "\n",
    "f = plt.figure(figsize=(12, 5))\n",
    "f.tight_layout()\n",
    "f.subplots_adjust(top=0.88)\n",
    "f.suptitle('RGB')\n",
    "ax = f.add_subplot(121)\n",
    "ax.imshow(gpos[:, :, :3])\n",
    "ax.set_title('Positive saliency')\n",
    "\n",
    "ax = f.add_subplot(122)\n",
    "ax.imshow(gpos[:, :, :3])\n",
    "ax.set_title('Negative saliency')\n",
    "plt.show()"
   ]
  },
  {
   "cell_type": "code",
   "execution_count": 31,
   "metadata": {},
   "outputs": [
    {
     "data": {
      "text/plain": [
       "29"
      ]
     },
     "execution_count": 31,
     "metadata": {},
     "output_type": "execute_result"
    }
   ],
   "source": []
  },
  {
   "cell_type": "code",
   "execution_count": null,
   "metadata": {},
   "outputs": [],
   "source": [
    "batches_rgb = []\n",
    "batches_rgbe = []\n",
    "labels = []\n",
    "h, w = val_ds_rgb.h, val_ds_rgb.w"
   ]
  },
  {
   "cell_type": "code",
   "execution_count": null,
   "metadata": {},
   "outputs": [],
   "source": [
    "model_rgb.eval()\n",
    "model_rgbe_bb.eval()\n",
    "\n",
    "with torch.no_grad():\n",
    "    for batch, label in val_ds_rgbe[len(val_ds_rgbe) - h*w :: 2]:\n",
    "        batch = batch.unsqueeze(0).cuda()\n",
    "\n",
    "        out1 = model_rgb(batch[:, :3, :, :])\n",
    "        out2 = model_rgbe_bb(batch)\n",
    "        pred1 = out1.permute(0, 2, 3, 1)\n",
    "        pred2 = out2.permute(0, 2, 3, 1)\n",
    "        batches_rgb.append(pred1)\n",
    "        batches_rgbe.append(pred2)\n",
    "        labels.append(label)\n"
   ]
  },
  {
   "cell_type": "code",
   "execution_count": null,
   "metadata": {},
   "outputs": [],
   "source": [
    "preds_rgb = torch.cat(batches_rgb, dim=0).view(-1, NCLASSES)\n",
    "preds_rgbe = torch.cat(batches_rgbe, dim=0).view(-1, NCLASSES)\n",
    "labels_flat = torch.cat([l.unsqueeze(0) for l in labels], dim=0).view(-1)\n",
    "\n",
    "probs_rgb = F.softmax(preds_rgb, dim=-1).cpu()\n",
    "probs_rgbe = F.softmax(preds_rgbe, dim=-1).cpu()\n",
    "\n",
    "logprobs_rgb = F.log_softmax(preds_rgb, dim=-1).cpu()\n",
    "logprobs_rgbe = F.log_softmax(preds_rgbe, dim=-1).cpu()"
   ]
  },
  {
   "cell_type": "code",
   "execution_count": 45,
   "metadata": {},
   "outputs": [
    {
     "name": "stdout",
     "output_type": "stream",
     "text": [
      "0 0.05024977773427963 0.017487837001681328\n",
      "1 0.08461654186248779 0.05247887596487999\n",
      "2 0.045692700892686844 0.08882671594619751\n",
      "3 0.05830514058470726 0.04818468913435936\n",
      "4 0.022100672125816345 0.010693208314478397\n",
      "5 0.041541676968336105 0.009151924401521683\n"
     ]
    }
   ],
   "source": [
    "for i in range(NCLASSES):\n",
    "    mask = (labels_flat == i).view(-1)\n",
    "    print(i, \n",
    "      F.kl_div(logprobs_rgb[mask, i], probs_rgbe[mask, i], reduction='batchmean').item(), \n",
    "      F.kl_div(logprobs_rgbe[mask, i], probs_rgb[mask, i], reduction='batchmean').item()\n",
    "    )\n"
   ]
  },
  {
   "cell_type": "code",
   "execution_count": 53,
   "metadata": {},
   "outputs": [
    {
     "name": "stdout",
     "output_type": "stream",
     "text": [
      "0\n",
      "P: rgbe, Q: rgb 0.05024978891015053\n",
      "P: rgb, Q: rgbe 0.017487844452261925\n",
      "1\n",
      "P: rgbe, Q: rgb 0.08461654186248779\n",
      "P: rgb, Q: rgbe 0.05247887223958969\n",
      "2\n",
      "P: rgbe, Q: rgb 0.04569270834326744\n",
      "P: rgb, Q: rgbe 0.0888267308473587\n",
      "3\n",
      "P: rgbe, Q: rgb 0.05830514058470726\n",
      "P: rgb, Q: rgbe 0.04818468913435936\n",
      "4\n",
      "P: rgbe, Q: rgb 0.02210068143904209\n",
      "P: rgb, Q: rgbe 0.010693217627704144\n",
      "5\n",
      "P: rgbe, Q: rgb 0.041541688144207\n",
      "P: rgb, Q: rgbe 0.009151934646070004\n"
     ]
    }
   ],
   "source": [
    "for i in range(NCLASSES):\n",
    "    mask = (labels_flat == i).view(-1)\n",
    "    \n",
    "    print(i)\n",
    "    P = probs_rgbe[mask, i]\n",
    "    Q = probs_rgb[mask, i]\n",
    "    print('P: rgbe, Q: rgb', (P * (P / Q).log()).mean().item())\n",
    "\n",
    "    P = probs_rgb[mask, i]\n",
    "    Q = probs_rgbe[mask, i]\n",
    "    print('P: rgb, Q: rgbe', (P * (P / Q).log()).mean().item())\n",
    "\n"
   ]
  },
  {
   "cell_type": "code",
   "execution_count": 1,
   "metadata": {},
   "outputs": [
    {
     "ename": "NameError",
     "evalue": "name 'NCLASSES' is not defined",
     "output_type": "error",
     "traceback": [
      "\u001b[0;31m---------------------------------------------------------------------------\u001b[0m",
      "\u001b[0;31mNameError\u001b[0m                                 Traceback (most recent call last)",
      "\u001b[0;32m<ipython-input-1-b3eb4170c666>\u001b[0m in \u001b[0;36m<module>\u001b[0;34m\u001b[0m\n\u001b[0;32m----> 1\u001b[0;31m \u001b[0;32mfor\u001b[0m \u001b[0mi\u001b[0m \u001b[0;32min\u001b[0m \u001b[0mrange\u001b[0m\u001b[0;34m(\u001b[0m\u001b[0mNCLASSES\u001b[0m\u001b[0;34m)\u001b[0m\u001b[0;34m:\u001b[0m\u001b[0;34m\u001b[0m\u001b[0;34m\u001b[0m\u001b[0m\n\u001b[0m\u001b[1;32m      2\u001b[0m     \u001b[0mmask\u001b[0m \u001b[0;34m=\u001b[0m \u001b[0;34m(\u001b[0m\u001b[0mlabels_flat\u001b[0m \u001b[0;34m==\u001b[0m \u001b[0mi\u001b[0m\u001b[0;34m)\u001b[0m\u001b[0;34m.\u001b[0m\u001b[0mfloat\u001b[0m\u001b[0;34m(\u001b[0m\u001b[0;34m)\u001b[0m\u001b[0;34m\u001b[0m\u001b[0;34m\u001b[0m\u001b[0m\n\u001b[1;32m      3\u001b[0m     print(i, \n\u001b[1;32m      4\u001b[0m       \u001b[0mF\u001b[0m\u001b[0;34m.\u001b[0m\u001b[0mkl_div\u001b[0m\u001b[0;34m(\u001b[0m\u001b[0mlogprobs_rgb\u001b[0m\u001b[0;34m[\u001b[0m\u001b[0;34m:\u001b[0m\u001b[0;34m,\u001b[0m \u001b[0mi\u001b[0m\u001b[0;34m]\u001b[0m\u001b[0;34m,\u001b[0m \u001b[0mmask\u001b[0m\u001b[0;34m,\u001b[0m \u001b[0mreduction\u001b[0m\u001b[0;34m=\u001b[0m\u001b[0;34m'batchmean'\u001b[0m\u001b[0;34m)\u001b[0m\u001b[0;34m.\u001b[0m\u001b[0mitem\u001b[0m\u001b[0;34m(\u001b[0m\u001b[0;34m)\u001b[0m\u001b[0;34m,\u001b[0m\u001b[0;34m\u001b[0m\u001b[0;34m\u001b[0m\u001b[0m\n\u001b[1;32m      5\u001b[0m       \u001b[0mF\u001b[0m\u001b[0;34m.\u001b[0m\u001b[0mkl_div\u001b[0m\u001b[0;34m(\u001b[0m\u001b[0mlogprobs_rgbe\u001b[0m\u001b[0;34m[\u001b[0m\u001b[0;34m:\u001b[0m\u001b[0;34m,\u001b[0m \u001b[0mi\u001b[0m\u001b[0;34m]\u001b[0m\u001b[0;34m,\u001b[0m \u001b[0mmask\u001b[0m\u001b[0;34m,\u001b[0m \u001b[0mreduction\u001b[0m\u001b[0;34m=\u001b[0m\u001b[0;34m'batchmean'\u001b[0m\u001b[0;34m)\u001b[0m\u001b[0;34m.\u001b[0m\u001b[0mitem\u001b[0m\u001b[0;34m(\u001b[0m\u001b[0;34m)\u001b[0m\u001b[0;34m\u001b[0m\u001b[0;34m\u001b[0m\u001b[0m\n",
      "\u001b[0;31mNameError\u001b[0m: name 'NCLASSES' is not defined"
     ]
    }
   ],
   "source": [
    "for i in range(NCLASSES):\n",
    "    mask = (labels_flat == i).float()\n",
    "    print(i, \n",
    "      F.kl_div(logprobs_rgb[:, i], mask, reduction='batchmean').item(), \n",
    "      F.kl_div(logprobs_rgbe[:, i], mask, reduction='batchmean').item()\n",
    "     )\n"
   ]
  },
  {
   "cell_type": "code",
   "execution_count": null,
   "metadata": {},
   "outputs": [],
   "source": []
  }
 ],
 "metadata": {
  "kernelspec": {
   "display_name": "Python 3",
   "language": "python",
   "name": "python3"
  },
  "language_info": {
   "codemirror_mode": {
    "name": "ipython",
    "version": 3
   },
   "file_extension": ".py",
   "mimetype": "text/x-python",
   "name": "python",
   "nbconvert_exporter": "python",
   "pygments_lexer": "ipython3",
   "version": "3.7.3"
  }
 },
 "nbformat": 4,
 "nbformat_minor": 4
}
