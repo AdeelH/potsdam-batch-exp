{
 "cells": [
  {
   "cell_type": "code",
   "execution_count": null,
   "metadata": {},
   "outputs": [],
   "source": [
    "!nvidia-smi"
   ]
  },
  {
   "cell_type": "markdown",
   "metadata": {},
   "source": [
    "# Init"
   ]
  },
  {
   "cell_type": "code",
   "execution_count": 8,
   "metadata": {},
   "outputs": [
    {
     "name": "stdout",
     "output_type": "stream",
     "text": [
      "Cloning into 'potsdam-batch-exp'...\n",
      "remote: Enumerating objects: 16, done.\u001b[K\n",
      "remote: Counting objects: 100% (16/16), done.\u001b[K\n",
      "remote: Compressing objects: 100% (13/13), done.\u001b[K\n",
      "remote: Total 16 (delta 2), reused 14 (delta 1), pack-reused 0\u001b[K\n",
      "Unpacking objects: 100% (16/16), done.\n"
     ]
    }
   ],
   "source": [
    "!git clone --depth=1 https://github.com/AdeelH/potsdam-batch-exp.git"
   ]
  },
  {
   "cell_type": "code",
   "execution_count": 4,
   "metadata": {},
   "outputs": [],
   "source": [
    "BATCH_SIZE = 16\n",
    "PRETRAINED = True\n",
    "LAST_CROSS = False\n",
    "\n",
    "MODEL_ARCH = 'unet'\n",
    "MODEL_BASE = 'resnet18'\n",
    "CHANNEL_VARIATION = 'rgb_e'\n",
    "MODEL_VARIATION = f'lc_{LAST_CROSS}'\n",
    "MODEL_VARIATION += f'_add_convs'\n"
   ]
  },
  {
   "cell_type": "code",
   "execution_count": 5,
   "metadata": {},
   "outputs": [
    {
     "name": "stdout",
     "output_type": "stream",
     "text": [
      "training_resume_test\n"
     ]
    }
   ],
   "source": [
    "EXPERIMENT_NAME = f'ss_{CHANNEL_VARIATION}_{MODEL_ARCH}_{MODEL_BASE}{\"p\" if PRETRAINED else \"\"}_{MODEL_VARIATION}_bsz_{BATCH_SIZE}'\n",
    "EXPERIMENT_NAME = 'training_resume_test'\n",
    "print(EXPERIMENT_NAME)\n",
    "\n",
    "S3_BUCKET = 'raster-vision-ahassan'\n",
    "S3_ROOT = f'potsdam/experiments/output/{EXPERIMENT_NAME}'"
   ]
  },
  {
   "cell_type": "code",
   "execution_count": 6,
   "metadata": {},
   "outputs": [],
   "source": [
    "EPOCHS = 1\n",
    "LR_START = 1e-2\n",
    "LR_END = 1e-4\n",
    "\n",
    "MOMENTUM = 0.9\n",
    "WEIGHT_DECAY = 5e-4\n",
    "\n",
    "CHECKPOINT_INTERVAL = 1\n",
    "BATCH_CB_INTERVAL = 10"
   ]
  },
  {
   "cell_type": "code",
   "execution_count": 7,
   "metadata": {},
   "outputs": [],
   "source": [
    "import os\n",
    "from pathlib import Path\n",
    "import glob\n",
    "from datetime import datetime\n",
    "\n",
    "import numpy as np\n",
    "import torch\n",
    "from torch import nn\n",
    "from torch import optim\n",
    "from torch.nn import functional as F\n",
    "import torch.utils\n",
    "import torchvision as tv\n",
    "from torchvision import transforms as tf\n",
    "\n",
    "from fastai.vision import *\n",
    "from fastai.metrics import error_rate\n",
    "\n",
    "import matplotlib.pyplot as plt\n",
    "%reload_ext autoreload\n",
    "%autoreload 2\n",
    "# %matplotlib inline"
   ]
  },
  {
   "cell_type": "code",
   "execution_count": 9,
   "metadata": {},
   "outputs": [],
   "source": [
    "import sys\n",
    "sys.path.append('potsdam-batch-exp/')\n",
    "\n",
    "from utils_ import *\n",
    "from io_ import *\n",
    "from data_ import *\n",
    "from transforms import *\n",
    "from models import *\n",
    "from training import *\n",
    "from visualizations import *\n",
    "from monitoring import *\n",
    "%reload_ext autoreload\n",
    "%autoreload 2"
   ]
  },
  {
   "cell_type": "code",
   "execution_count": 10,
   "metadata": {},
   "outputs": [],
   "source": [
    "CLASS_NAMES = ['building', 'tree', 'low-vegetation', 'clutter', 'car', 'pavement']\n",
    "NCLASSES = len(CLASS_NAMES)"
   ]
  },
  {
   "cell_type": "code",
   "execution_count": 11,
   "metadata": {},
   "outputs": [],
   "source": [
    "io_handler = S3IoHandler(\n",
    "    local_root=EXPERIMENT_NAME, \n",
    "    s3_bucket=S3_BUCKET, \n",
    "    s3_root=S3_ROOT\n",
    ")"
   ]
  },
  {
   "cell_type": "markdown",
   "metadata": {},
   "source": [
    "# Data"
   ]
  },
  {
   "cell_type": "code",
   "execution_count": 28,
   "metadata": {},
   "outputs": [],
   "source": [
    "# potsdam_dict = io_handler.load_pickled_file('potsdam/data/potsdam.pkl', 'data/potsdam.pkl')\n",
    "with open('../../potsdam/data/potsdam.pkl', 'rb') as f:\n",
    "    potsdam_dict = pickle.load(f)"
   ]
  },
  {
   "cell_type": "markdown",
   "metadata": {},
   "source": [
    "## Prepare datasets"
   ]
  },
  {
   "cell_type": "code",
   "execution_count": 29,
   "metadata": {},
   "outputs": [],
   "source": [
    "CHANNELS = [ch_R, ch_G, ch_B, ch_E]\n",
    "CHIP_SIZE = 400\n",
    "STRIDE = 200\n",
    "DOWNSAMPLING = 2\n",
    "\n",
    "TRAIN_SPLIT = 0.85"
   ]
  },
  {
   "cell_type": "code",
   "execution_count": 30,
   "metadata": {},
   "outputs": [],
   "source": [
    "train_transform, val_transform, x_transform, y_transform = tfs_potsdam(channels=CHANNELS, downsampling=DOWNSAMPLING)"
   ]
  },
  {
   "cell_type": "code",
   "execution_count": 31,
   "metadata": {
    "jupyter": {
     "source_hidden": true
    }
   },
   "outputs": [],
   "source": [
    "original_ds = Potsdam(potsdam_dict, chip_size=CHIP_SIZE, stride=STRIDE, tf=val_transform)\n",
    "train_ds    = Potsdam(potsdam_dict, chip_size=CHIP_SIZE, stride=STRIDE, tf=train_transform, x_tf=x_transform, y_tf=y_transform)\n",
    "val_ds      = Potsdam(potsdam_dict, chip_size=CHIP_SIZE, stride=STRIDE, tf=val_transform  , x_tf=x_transform, y_tf=y_transform)"
   ]
  },
  {
   "cell_type": "markdown",
   "metadata": {},
   "source": [
    "### Train/val split"
   ]
  },
  {
   "cell_type": "code",
   "execution_count": 32,
   "metadata": {
    "jupyter": {
     "source_hidden": true
    }
   },
   "outputs": [
    {
     "name": "stdout",
     "output_type": "stream",
     "text": [
      "train_split_size 12867\n",
      "val_split_size 2271\n"
     ]
    }
   ],
   "source": [
    "train_split_size = int((len(train_ds) * TRAIN_SPLIT) // 1)\n",
    "val_split_size = len(train_ds) - train_split_size\n",
    "train_split_size, val_split_size\n",
    "\n",
    "print('train_split_size', train_split_size)\n",
    "print('val_split_size', val_split_size)\n",
    "\n",
    "inds = np.arange(len(train_ds))"
   ]
  },
  {
   "cell_type": "markdown",
   "metadata": {},
   "source": [
    "### Samplers"
   ]
  },
  {
   "cell_type": "code",
   "execution_count": 33,
   "metadata": {},
   "outputs": [],
   "source": [
    "train_sampler = torch.utils.data.SubsetRandomSampler(inds[:train_split_size])\n",
    "val_sampler = torch.utils.data.SubsetRandomSampler(inds[train_split_size:])\n",
    "\n",
    "assert len(set(train_sampler.indices) & set(val_sampler.indices)) == 0"
   ]
  },
  {
   "cell_type": "markdown",
   "metadata": {},
   "source": [
    "# Model"
   ]
  },
  {
   "cell_type": "markdown",
   "metadata": {},
   "source": [
    "Use FastAI to create a UNet from a Resnet18"
   ]
  },
  {
   "cell_type": "code",
   "execution_count": 12,
   "metadata": {},
   "outputs": [],
   "source": [
    "def _base_model(pretrained=False):\n",
    "    m = tv.models.resnet18(pretrained=pretrained)\n",
    "    return m"
   ]
  },
  {
   "cell_type": "code",
   "execution_count": 13,
   "metadata": {},
   "outputs": [],
   "source": [
    "body = create_body(_base_model, pretrained=PRETRAINED)\n",
    "model = models.unet.DynamicUnet(body, n_classes=NCLASSES, last_cross=LAST_CROSS).cuda()"
   ]
  },
  {
   "cell_type": "code",
   "execution_count": 18,
   "metadata": {},
   "outputs": [],
   "source": [
    "# io_handler.load_model_weights(\n",
    "#     model, \n",
    "#     s3_path='potsdam/experiments/output/ss_rgb_unet_resnet18p_lc_False_bsz_16/best_model/best_acc', \n",
    "#     tgt_path='rgb_model'\n",
    "# )"
   ]
  },
  {
   "cell_type": "code",
   "execution_count": 14,
   "metadata": {},
   "outputs": [],
   "source": [
    "model[0][0] = ModifiedConv_add(model[0][0], new_conv_in_channels=1).cuda()"
   ]
  },
  {
   "cell_type": "markdown",
   "metadata": {},
   "source": [
    "Freeze original, pretrained conv"
   ]
  },
  {
   "cell_type": "code",
   "execution_count": 15,
   "metadata": {},
   "outputs": [],
   "source": [
    "freeze(model[0][0].original_conv)"
   ]
  },
  {
   "cell_type": "markdown",
   "metadata": {},
   "source": [
    "Re-init bn layer immediately following the modified conv layer"
   ]
  },
  {
   "cell_type": "markdown",
   "metadata": {},
   "source": [
    "# Train"
   ]
  },
  {
   "cell_type": "markdown",
   "metadata": {},
   "source": [
    "## Training monitoring callbacks"
   ]
  },
  {
   "cell_type": "code",
   "execution_count": 16,
   "metadata": {},
   "outputs": [],
   "source": [
    "\n",
    "def get_epoch_monitor(io_handler, chkpt_interval=1, viz_root='visualizations/per_epoch'):\n",
    "    assert chkpt_interval > 0\n",
    "\n",
    "    filter_path = f'{viz_root}/conv'\n",
    "    os.makedirs(io_handler.to_local_path(filter_path), exist_ok=True)\n",
    "\n",
    "    def _monitor(model, optimizer, sched, logs):\n",
    "        epoch = len(logs['epoch']) # epoch is now 1-indexed\n",
    "        val_acc = logs['val_acc'][-1]\n",
    "        val_loss = logs['val_loss'][-1]\n",
    "        last_best_acc = logs['best_acc'][-1] if epoch > 1 else -1\n",
    "        last_best_loss = logs['best_loss'][-1] if epoch > 1 else 1e8\n",
    "\n",
    "        if val_acc > last_best_acc:\n",
    "            logs['best_acc'].append(val_acc)\n",
    "            io_handler.save_model(model, f'best_model/best_acc', info=logs)\n",
    "        else:\n",
    "            logs['best_acc'].append(last_best_acc)\n",
    "\n",
    "        if val_loss < last_best_loss:\n",
    "            logs['best_loss'].append(val_loss)\n",
    "            io_handler.save_model(model, f'best_model/best_loss', info=logs)\n",
    "        else:\n",
    "            logs['best_loss'].append(last_best_loss)\n",
    "\n",
    "        if epoch % chkpt_interval == 0:\n",
    "            io_handler.save_checkpoint(model, optimizer, sched, f'checkpoints/epoch_%04d' % (epoch), info=logs)\n",
    "\n",
    "        log_str = logs_to_str(logs)\n",
    "        print(log_str)\n",
    "\n",
    "        io_handler.save_log('logs.pkl', logs)\n",
    "        io_handler.save_log_str(f'logs.txt', log_str)\n",
    "\n",
    "        title = 'epoch %04d' % (epoch)\n",
    "        fs = model[0][0].new_conv.weight\n",
    "        fig = viz_conv_layer_filters(fs.data, title=title, scale_each=False, padding=1)\n",
    "        io_handler.save_img(fig, f'{filter_path}/epoch_%04d' % (epoch))\n",
    "        plt.close(fig)\n",
    "\n",
    "        fig = plot_lr(logs)\n",
    "        io_handler.save_img(fig, f'visualizations/lr')\n",
    "        plt.close(fig)\n",
    "\n",
    "        fig = plot_losses(logs)\n",
    "        io_handler.save_img(fig, f'visualizations/loss')\n",
    "        plt.close(fig)\n",
    "\n",
    "        fig = plot_accs(logs)\n",
    "        io_handler.save_img(fig, f'visualizations/accuracy')\n",
    "        plt.close(fig)\n",
    "\n",
    "        stat_figs = plot_class_stats(logs)\n",
    "        for stat, fig in stat_figs:\n",
    "            io_handler.save_img(fig, f'visualizations/{stat}')\n",
    "            plt.close(fig)\n",
    "\n",
    "    return _monitor\n",
    "\n",
    "def get_batch_monitor(io_handler, viz_root='visualizations/per_batch', interval=4):\n",
    "\n",
    "    filter_path = f'{viz_root}/conv'\n",
    "    grad_path = f'{viz_root}/conv_grad'\n",
    "    os.makedirs(io_handler.to_local_path(filter_path), exist_ok=True)\n",
    "    os.makedirs(io_handler.to_local_path(grad_path), exist_ok=True)\n",
    "\n",
    "    def _monitor(model, epoch, batch_idx, batch, labels):\n",
    "        if batch_idx % interval != 0:\n",
    "            return\n",
    "\n",
    "        fs = model[0][0].new_conv.weight\n",
    "\n",
    "        title = 'epoch %04d, batch %05d' % (epoch, batch_idx)\n",
    "        fig = viz_conv_layer_filters(fs.data, title=title, scale_each=False, padding=1)\n",
    "        io_handler.save_img(fig, f'{filter_path}/epoch_%04d_batch_%05d' % (epoch, batch_idx))\n",
    "        plt.close(fig)\n",
    "\n",
    "        fig = viz_conv_layer_filters(fs.grad.data, title=title, scale_each=False, padding=1)\n",
    "        io_handler.save_img(fig, f'{grad_path}/epoch_%04d_batch_%05d' % (epoch, batch_idx))\n",
    "        plt.close(fig)\n",
    "\n",
    "    return _monitor\n"
   ]
  },
  {
   "cell_type": "code",
   "execution_count": 17,
   "metadata": {},
   "outputs": [],
   "source": [
    "epoch_callback = get_epoch_monitor(io_handler, chkpt_interval=CHECKPOINT_INTERVAL)\n",
    "batch_callback = get_batch_monitor(io_handler, interval=BATCH_CB_INTERVAL)"
   ]
  },
  {
   "cell_type": "code",
   "execution_count": 36,
   "metadata": {},
   "outputs": [],
   "source": [
    "train_params = {}\n",
    "train_params['batch_size'] = BATCH_SIZE\n",
    "train_params['val_batch_size'] = BATCH_SIZE"
   ]
  },
  {
   "cell_type": "code",
   "execution_count": 37,
   "metadata": {},
   "outputs": [],
   "source": [
    "train_dl = torch.utils.data.DataLoader(train_ds, sampler=train_sampler, batch_size=train_params['batch_size']    , pin_memory=False)\n",
    "val_dl   = torch.utils.data.DataLoader(val_ds  , sampler=val_sampler  , batch_size=train_params['val_batch_size'], pin_memory=False)"
   ]
  },
  {
   "cell_type": "code",
   "execution_count": 39,
   "metadata": {},
   "outputs": [],
   "source": [
    "train_params = {}\n",
    "train_params['epochs'] = EPOCHS\n",
    "train_params['learning_rate'] = LR_START\n",
    "train_params['learning_rate_min'] = LR_END"
   ]
  },
  {
   "cell_type": "code",
   "execution_count": 40,
   "metadata": {},
   "outputs": [],
   "source": [
    "optimizer = optim.SGD(model.parameters(), lr=train_params['learning_rate'], momentum=MOMENTUM, weight_decay=WEIGHT_DECAY)\n",
    "sched = optim.lr_scheduler.CosineAnnealingLR(optimizer, train_params['epochs'], eta_min=train_params['learning_rate_min'])"
   ]
  },
  {
   "cell_type": "code",
   "execution_count": 41,
   "metadata": {},
   "outputs": [
    {
     "name": "stdout",
     "output_type": "stream",
     "text": [
      "defaultdict(<class 'list'>, {'epoch': [0], 'lr_0': [0.01], 'train_loss': [1.0468148005433022e-06], 'val_loss': [tensor(6.9326e-07)], 'train_acc': [0.7737424373626709], 'val_acc': [0.8476085662841797], 'train_time': [170.73402333259583], 'val_time': [21.362993478775024], 'class_0_precision': [0.921190083026886], 'class_0_recall': [0.9726234078407288], 'class_0_fscore': [0.9618823528289795], 'class_1_precision': [0.8734885454177856], 'class_1_recall': [0.6640061736106873], 'class_1_fscore': [0.6974594593048096], 'class_2_precision': [0.7558938264846802], 'class_2_recall': [0.790364682674408], 'class_2_fscore': [0.7832212448120117], 'class_3_precision': [0.7636243104934692], 'class_3_recall': [0.41189223527908325], 'class_3_fscore': [0.4536866843700409], 'class_4_precision': [0.8048877120018005], 'class_4_recall': [0.8395473957061768], 'class_4_fscore': [0.8323786854743958], 'class_5_precision': [0.8174220323562622], 'class_5_recall': [0.894550085067749], 'class_5_fscore': [0.8779817223548889]})\n"
     ]
    }
   ],
   "source": [
    "from collections import defaultdict\n",
    "\n",
    "logs = defaultdict(list)\n",
    "if io_handler.checkpoint_exists():\n",
    "    chkpt = io_handler.load_latest_checkpoint()\n",
    "    logs = chkpt['info']\n",
    "    train_params['last_epoch'] = logs['epoch'][-1]\n",
    "\n",
    "    model.load_state_dict(chkpt['model'])\n",
    "    if 'optimizer' in chkpt:\n",
    "        optimizer.load_state_dict(chkpt['optimizer'])\n",
    "    if 'sched' in chkpt:\n",
    "        sched.load_state_dict(chkpt['sched'])"
   ]
  },
  {
   "cell_type": "code",
   "execution_count": 45,
   "metadata": {},
   "outputs": [
    {
     "data": {
      "text/plain": [
       "[]"
      ]
     },
     "execution_count": 45,
     "metadata": {},
     "output_type": "execute_result"
    }
   ],
   "source": [
    "logs['best_loss']"
   ]
  },
  {
   "cell_type": "code",
   "execution_count": 42,
   "metadata": {},
   "outputs": [
    {
     "ename": "IndexError",
     "evalue": "list index out of range",
     "output_type": "error",
     "traceback": [
      "\u001b[0;31m---------------------------------------------------------------------------\u001b[0m",
      "\u001b[0;31mIndexError\u001b[0m                                Traceback (most recent call last)",
      "\u001b[0;32m<ipython-input-42-46f3bc36f9e9>\u001b[0m in \u001b[0;36m<module>\u001b[0;34m\u001b[0m\n\u001b[1;32m      1\u001b[0m \u001b[0mplt\u001b[0m\u001b[0;34m.\u001b[0m\u001b[0mioff\u001b[0m\u001b[0;34m(\u001b[0m\u001b[0;34m)\u001b[0m\u001b[0;34m\u001b[0m\u001b[0;34m\u001b[0m\u001b[0m\n\u001b[1;32m      2\u001b[0m train_seg(model, train_dl, val_dl, optimizer, sched, train_params, \n\u001b[0;32m----> 3\u001b[0;31m           epoch_callback=epoch_callback, batch_callback=batch_callback, logs=logs)\n\u001b[0m",
      "\u001b[0;32m~/mb/potsdam-batch-exp/nbs/potsdam-batch-exp/training.py\u001b[0m in \u001b[0;36mtrain_seg\u001b[0;34m(model, train_dl, val_dl, optimizer, sched, params, criterion, epoch_callback, batch_callback, logs)\u001b[0m\n\u001b[1;32m    127\u001b[0m \u001b[0;34m\u001b[0m\u001b[0m\n\u001b[1;32m    128\u001b[0m         \u001b[0msched\u001b[0m\u001b[0;34m.\u001b[0m\u001b[0mstep\u001b[0m\u001b[0;34m(\u001b[0m\u001b[0;34m)\u001b[0m\u001b[0;34m\u001b[0m\u001b[0;34m\u001b[0m\u001b[0m\n\u001b[0;32m--> 129\u001b[0;31m         \u001b[0mepoch_callback\u001b[0m\u001b[0;34m(\u001b[0m\u001b[0mmodel\u001b[0m\u001b[0;34m,\u001b[0m \u001b[0moptimizer\u001b[0m\u001b[0;34m,\u001b[0m \u001b[0msched\u001b[0m\u001b[0;34m,\u001b[0m \u001b[0mlogs\u001b[0m\u001b[0;34m)\u001b[0m\u001b[0;34m\u001b[0m\u001b[0;34m\u001b[0m\u001b[0m\n\u001b[0m\u001b[1;32m    130\u001b[0m     \u001b[0;32mreturn\u001b[0m \u001b[0mlogs\u001b[0m\u001b[0;34m\u001b[0m\u001b[0;34m\u001b[0m\u001b[0m\n\u001b[1;32m    131\u001b[0m \u001b[0;34m\u001b[0m\u001b[0m\n",
      "\u001b[0;32m<ipython-input-16-5c053bcf68b0>\u001b[0m in \u001b[0;36m_monitor\u001b[0;34m(model, optimizer, sched, logs)\u001b[0m\n\u001b[1;32m     10\u001b[0m         \u001b[0mval_acc\u001b[0m \u001b[0;34m=\u001b[0m \u001b[0mlogs\u001b[0m\u001b[0;34m[\u001b[0m\u001b[0;34m'val_acc'\u001b[0m\u001b[0;34m]\u001b[0m\u001b[0;34m[\u001b[0m\u001b[0;34m-\u001b[0m\u001b[0;36m1\u001b[0m\u001b[0;34m]\u001b[0m\u001b[0;34m\u001b[0m\u001b[0;34m\u001b[0m\u001b[0m\n\u001b[1;32m     11\u001b[0m         \u001b[0mval_loss\u001b[0m \u001b[0;34m=\u001b[0m \u001b[0mlogs\u001b[0m\u001b[0;34m[\u001b[0m\u001b[0;34m'val_loss'\u001b[0m\u001b[0;34m]\u001b[0m\u001b[0;34m[\u001b[0m\u001b[0;34m-\u001b[0m\u001b[0;36m1\u001b[0m\u001b[0;34m]\u001b[0m\u001b[0;34m\u001b[0m\u001b[0;34m\u001b[0m\u001b[0m\n\u001b[0;32m---> 12\u001b[0;31m         \u001b[0mlast_best_acc\u001b[0m \u001b[0;34m=\u001b[0m \u001b[0mlogs\u001b[0m\u001b[0;34m[\u001b[0m\u001b[0;34m'best_acc'\u001b[0m\u001b[0;34m]\u001b[0m\u001b[0;34m[\u001b[0m\u001b[0;34m-\u001b[0m\u001b[0;36m1\u001b[0m\u001b[0;34m]\u001b[0m \u001b[0;32mif\u001b[0m \u001b[0mepoch\u001b[0m \u001b[0;34m>\u001b[0m \u001b[0;36m1\u001b[0m \u001b[0;32melse\u001b[0m \u001b[0;34m-\u001b[0m\u001b[0;36m1\u001b[0m\u001b[0;34m\u001b[0m\u001b[0;34m\u001b[0m\u001b[0m\n\u001b[0m\u001b[1;32m     13\u001b[0m         \u001b[0mlast_best_loss\u001b[0m \u001b[0;34m=\u001b[0m \u001b[0mlogs\u001b[0m\u001b[0;34m[\u001b[0m\u001b[0;34m'best_loss'\u001b[0m\u001b[0;34m]\u001b[0m\u001b[0;34m[\u001b[0m\u001b[0;34m-\u001b[0m\u001b[0;36m1\u001b[0m\u001b[0;34m]\u001b[0m \u001b[0;32mif\u001b[0m \u001b[0mepoch\u001b[0m \u001b[0;34m>\u001b[0m \u001b[0;36m1\u001b[0m \u001b[0;32melse\u001b[0m \u001b[0;36m1e8\u001b[0m\u001b[0;34m\u001b[0m\u001b[0;34m\u001b[0m\u001b[0m\n\u001b[1;32m     14\u001b[0m \u001b[0;34m\u001b[0m\u001b[0m\n",
      "\u001b[0;31mIndexError\u001b[0m: list index out of range"
     ]
    }
   ],
   "source": [
    "plt.ioff()\n",
    "train_seg(model, train_dl, val_dl, optimizer, sched, train_params, \n",
    "          epoch_callback=epoch_callback, batch_callback=batch_callback, logs=logs)"
   ]
  },
  {
   "cell_type": "code",
   "execution_count": 50,
   "metadata": {},
   "outputs": [],
   "source": [
    "optimizer = optim.SGD(model.parameters(), lr=train_params['learning_rate'], momentum=MOMENTUM, weight_decay=WEIGHT_DECAY)\n",
    "sched = optim.lr_scheduler.CosineAnnealingLR(optimizer, train_params['epochs'], eta_min=train_params['learning_rate_min'])"
   ]
  },
  {
   "cell_type": "code",
   "execution_count": 54,
   "metadata": {},
   "outputs": [],
   "source": [
    "from collections import defaultdict\n",
    "\n",
    "logs = defaultdict(list)\n",
    "if io_handler.checkpoint_exists():\n",
    "    chkpt = io_handler.load_latest_checkpoint()\n",
    "    logs = chkpt['info']\n",
    "    train_params['last_epoch'] = logs['epoch'][-1]\n",
    "#     train_params['epochs'] -= train_params['last_epoch']\n",
    "\n",
    "    model.load_state_dict(chkpt['model'])\n",
    "    if 'optimizer' in chkpt:\n",
    "        optimizer.load_state_dict(chkpt['optimizer'])\n",
    "    if 'sched' in chkpt:\n",
    "        sched.load_state_dict(chkpt['sched'])"
   ]
  },
  {
   "cell_type": "code",
   "execution_count": null,
   "metadata": {},
   "outputs": [],
   "source": [
    "print(optimizer)\n",
    "print(sched)"
   ]
  },
  {
   "cell_type": "code",
   "execution_count": null,
   "metadata": {},
   "outputs": [],
   "source": [
    "plt.ioff()\n",
    "train_seg(model, train_dl, val_dl, optimizer, sched, train_params, \n",
    "          epoch_callback=epoch_callback, batch_callback=batch_callback, logs=logs)"
   ]
  },
  {
   "cell_type": "markdown",
   "metadata": {},
   "source": [
    "# Create animations"
   ]
  },
  {
   "cell_type": "code",
   "execution_count": null,
   "metadata": {},
   "outputs": [],
   "source": [
    "# !apt update -y\n",
    "# !apt install ffmpeg -y"
   ]
  },
  {
   "cell_type": "code",
   "execution_count": null,
   "metadata": {},
   "outputs": [],
   "source": [
    "# !ffmpeg -framerate 60 -pattern_type glob -i \"$EXPERIMENT_NAME/visualizations/per_batch/conv/*.png\" -c:v libx264 \\\n",
    "#     -pix_fmt yuv420p \"$EXPERIMENT_NAME/visualizations/per_batch/conv/conv.mp4\" -y;\n",
    "# !ffmpeg -framerate 60 -pattern_type glob -i \"$EXPERIMENT_NAME/visualizations/per_batch/conv_grad/*.png\" -c:v libx264 \\\n",
    "#     -pix_fmt yuv420p \"$EXPERIMENT_NAME/visualizations/per_batch/conv_grad/conv_grad.mp4\" -y;"
   ]
  },
  {
   "cell_type": "code",
   "execution_count": null,
   "metadata": {},
   "outputs": [],
   "source": [
    "# io_handler.upload_file('visualizations/per_batch/conv/conv.mp4', 'visualizations/per_batch/conv.mp4')\n",
    "# io_handler.upload_file('visualizations/per_batch/conv_grad/conv_grad.mp4', 'visualizations/per_batch/conv_grad.mp4')"
   ]
  }
 ],
 "metadata": {
  "kernelspec": {
   "display_name": "Python 3",
   "language": "python",
   "name": "python3"
  },
  "language_info": {
   "codemirror_mode": {
    "name": "ipython",
    "version": 3
   },
   "file_extension": ".py",
   "mimetype": "text/x-python",
   "name": "python",
   "nbconvert_exporter": "python",
   "pygments_lexer": "ipython3",
   "version": "3.7.3"
  }
 },
 "nbformat": 4,
 "nbformat_minor": 4
}
