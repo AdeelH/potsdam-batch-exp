{
 "cells": [
  {
   "cell_type": "code",
   "execution_count": null,
   "metadata": {},
   "outputs": [],
   "source": [
    "!nvidia-smi"
   ]
  },
  {
   "cell_type": "markdown",
   "metadata": {},
   "source": [
    "# Init"
   ]
  },
  {
   "cell_type": "code",
   "execution_count": null,
   "metadata": {},
   "outputs": [],
   "source": [
    "!git clone --depth=1 https://github.com/AdeelH/potsdam-batch-exp.git"
   ]
  },
  {
   "cell_type": "code",
   "execution_count": 27,
   "metadata": {},
   "outputs": [],
   "source": [
    "BATCH_SIZE = 16\n",
    "PRETRAINED = True\n",
    "LAST_CROSS = False\n",
    "\n",
    "MODEL_ARCH = 'unet'\n",
    "MODEL_BASE = 'resnet18'\n",
    "CHANNEL_VARIATION = 'rgb_e'\n",
    "MODEL_VARIATION = f'lc_{LAST_CROSS}'\n",
    "MODEL_VARIATION += f'_ensemble_bn'\n"
   ]
  },
  {
   "cell_type": "code",
   "execution_count": 28,
   "metadata": {},
   "outputs": [
    {
     "name": "stdout",
     "output_type": "stream",
     "text": [
      "ss_rgb_e_unet_resnet18p_lc_False_ensemble_bn_bsz_16\n"
     ]
    }
   ],
   "source": [
    "EXPERIMENT_NAME = f'ss_{CHANNEL_VARIATION}_{MODEL_ARCH}_{MODEL_BASE}{\"p\" if PRETRAINED else \"\"}_{MODEL_VARIATION}_bsz_{BATCH_SIZE}'\n",
    "print(EXPERIMENT_NAME)\n",
    "\n",
    "S3_BUCKET = 'raster-vision-ahassan'\n",
    "S3_ROOT = f'potsdam/experiments/output/{EXPERIMENT_NAME}'"
   ]
  },
  {
   "cell_type": "code",
   "execution_count": 29,
   "metadata": {},
   "outputs": [],
   "source": [
    "EPOCHS = 40\n",
    "LR_START = 1e-2\n",
    "LR_END = 1e-4\n",
    "\n",
    "MOMENTUM = 0.9\n",
    "WEIGHT_DECAY = 5e-4\n",
    "\n",
    "CHECKPOINT_INTERVAL = 10\n",
    "BATCH_CB_INTERVAL = 10"
   ]
  },
  {
   "cell_type": "code",
   "execution_count": 30,
   "metadata": {},
   "outputs": [],
   "source": [
    "import os\n",
    "from pathlib import Path\n",
    "import glob\n",
    "from datetime import datetime\n",
    "\n",
    "import numpy as np\n",
    "import torch\n",
    "from torch import nn\n",
    "from torch import optim\n",
    "from torch.nn import functional as F\n",
    "import torch.utils\n",
    "import torchvision as tv\n",
    "from torchvision import transforms as tf\n",
    "\n",
    "from fastai.vision import *\n",
    "from fastai.metrics import error_rate\n",
    "\n",
    "import matplotlib.pyplot as plt\n",
    "%reload_ext autoreload\n",
    "%autoreload 2\n",
    "# %matplotlib inline"
   ]
  },
  {
   "cell_type": "code",
   "execution_count": 31,
   "metadata": {},
   "outputs": [],
   "source": [
    "import sys\n",
    "# sys.path.append('potsdam-batch-exp/')\n",
    "sys.path.append('../')"
   ]
  },
  {
   "cell_type": "code",
   "execution_count": 32,
   "metadata": {},
   "outputs": [],
   "source": [
    "from utils_ import *\n",
    "from io_ import *\n",
    "from data_ import *\n",
    "from transforms import *\n",
    "from models import *\n",
    "from training import *\n",
    "from visualizations import *\n",
    "from monitoring import *\n",
    "%reload_ext autoreload\n",
    "%autoreload 2"
   ]
  },
  {
   "cell_type": "code",
   "execution_count": 33,
   "metadata": {},
   "outputs": [],
   "source": [
    "CLASS_NAMES = ['building', 'tree', 'low-vegetation', 'clutter', 'car', 'pavement']\n",
    "NCLASSES = len(CLASS_NAMES)"
   ]
  },
  {
   "cell_type": "code",
   "execution_count": 34,
   "metadata": {},
   "outputs": [],
   "source": [
    "io_handler = S3IoHandler(\n",
    "    local_root=EXPERIMENT_NAME, \n",
    "    s3_bucket=S3_BUCKET, \n",
    "    s3_root=S3_ROOT\n",
    ")"
   ]
  },
  {
   "cell_type": "markdown",
   "metadata": {},
   "source": [
    "# Data"
   ]
  },
  {
   "cell_type": "code",
   "execution_count": 36,
   "metadata": {},
   "outputs": [],
   "source": [
    "# potsdam_dict = io_handler.load_pickled_file('potsdam/data/potsdam.pkl', 'data/potsdam.pkl')\n",
    "with open('../../potsdam/data/potsdam.pkl', 'rb') as f:\n",
    "    potsdam_dict = pickle.load(f)\n"
   ]
  },
  {
   "cell_type": "markdown",
   "metadata": {},
   "source": [
    "## Prepare datasets"
   ]
  },
  {
   "cell_type": "code",
   "execution_count": 37,
   "metadata": {},
   "outputs": [],
   "source": [
    "CHANNELS = [ch_R, ch_G, ch_B, ch_E]\n",
    "CHIP_SIZE = 400\n",
    "STRIDE = 200\n",
    "DOWNSAMPLING = 2\n",
    "\n",
    "TRAIN_SPLIT = 0.85"
   ]
  },
  {
   "cell_type": "code",
   "execution_count": 38,
   "metadata": {},
   "outputs": [],
   "source": [
    "train_transform, val_transform, x_transform, y_transform = tfs_potsdam(channels=CHANNELS, downsampling=DOWNSAMPLING)"
   ]
  },
  {
   "cell_type": "code",
   "execution_count": 39,
   "metadata": {},
   "outputs": [],
   "source": [
    "original_ds = Potsdam(potsdam_dict, chip_size=CHIP_SIZE, stride=STRIDE, tf=val_transform)\n",
    "train_ds    = Potsdam(potsdam_dict, chip_size=CHIP_SIZE, stride=STRIDE, tf=train_transform, x_tf=x_transform, y_tf=y_transform)\n",
    "val_ds      = Potsdam(potsdam_dict, chip_size=CHIP_SIZE, stride=STRIDE, tf=val_transform  , x_tf=x_transform, y_tf=y_transform)"
   ]
  },
  {
   "cell_type": "markdown",
   "metadata": {},
   "source": [
    "### Train/val split"
   ]
  },
  {
   "cell_type": "code",
   "execution_count": 40,
   "metadata": {},
   "outputs": [
    {
     "name": "stdout",
     "output_type": "stream",
     "text": [
      "train_split_size 12867\n",
      "val_split_size 2271\n"
     ]
    }
   ],
   "source": [
    "train_split_size = int((len(train_ds) * TRAIN_SPLIT) // 1)\n",
    "val_split_size = len(train_ds) - train_split_size\n",
    "train_split_size, val_split_size\n",
    "\n",
    "print('train_split_size', train_split_size)\n",
    "print('val_split_size', val_split_size)\n",
    "\n",
    "inds = np.arange(len(train_ds))"
   ]
  },
  {
   "cell_type": "markdown",
   "metadata": {},
   "source": [
    "### Samplers"
   ]
  },
  {
   "cell_type": "code",
   "execution_count": 41,
   "metadata": {},
   "outputs": [],
   "source": [
    "train_sampler = torch.utils.data.SubsetRandomSampler(inds[:train_split_size])\n",
    "val_sampler = torch.utils.data.SubsetRandomSampler(inds[train_split_size:])\n",
    "\n",
    "assert len(set(train_sampler.indices) & set(val_sampler.indices)) == 0"
   ]
  },
  {
   "cell_type": "markdown",
   "metadata": {},
   "source": [
    "# Model"
   ]
  },
  {
   "cell_type": "markdown",
   "metadata": {},
   "source": [
    "Use FastAI to create a UNet from a Resnet18"
   ]
  },
  {
   "cell_type": "code",
   "execution_count": 10,
   "metadata": {},
   "outputs": [],
   "source": [
    "def _base_model(pretrained=False):\n",
    "    m = tv.models.resnet18(pretrained=pretrained)\n",
    "    return m"
   ]
  },
  {
   "cell_type": "code",
   "execution_count": 11,
   "metadata": {},
   "outputs": [],
   "source": [
    "body = create_body(_base_model, pretrained=PRETRAINED)\n",
    "rgb_model = models.unet.DynamicUnet(body, n_classes=NCLASSES, last_cross=LAST_CROSS).cuda()"
   ]
  },
  {
   "cell_type": "code",
   "execution_count": 12,
   "metadata": {},
   "outputs": [],
   "source": [
    "def _base_model(pretrained=False):\n",
    "    m = tv.models.resnet18(pretrained=pretrained)\n",
    "    m._modules['conv1'] = nn.Conv2d(1, 64, kernel_size=(7, 7), stride=(2, 2), padding=(3, 3), bias=False)\n",
    "    return m"
   ]
  },
  {
   "cell_type": "code",
   "execution_count": 13,
   "metadata": {},
   "outputs": [],
   "source": [
    "body = create_body(_base_model, pretrained=PRETRAINED)\n",
    "e_model = models.unet.DynamicUnet(body, n_classes=NCLASSES, last_cross=LAST_CROSS).cuda()"
   ]
  },
  {
   "cell_type": "code",
   "execution_count": 16,
   "metadata": {},
   "outputs": [],
   "source": [
    "io_handler.load_model_weights(\n",
    "    rgb_model, \n",
    "    s3_path='potsdam/experiments/output/ss_rgb_unet_resnet18p_lc_False_bsz_16/best_model/best_acc', \n",
    "    tgt_path='rgb_model'\n",
    ")\n",
    "io_handler.load_model_weights(\n",
    "    e_model, \n",
    "    s3_path='potsdam/experiments/output/ss_e_unet_resnet18p_lc_False_bsz_16/best_model/ss_e_unet_resnet18p_lc_False_bsz_16', \n",
    "    tgt_path='e_model'\n",
    ")"
   ]
  },
  {
   "cell_type": "code",
   "execution_count": 60,
   "metadata": {},
   "outputs": [],
   "source": [
    "model = RGB_E_ensemble(rgb_model, e_model, nclasses=6).cuda()"
   ]
  },
  {
   "cell_type": "code",
   "execution_count": 61,
   "metadata": {},
   "outputs": [],
   "source": [
    "freeze(model.rgb[0])\n",
    "freeze(model.e[0])"
   ]
  },
  {
   "cell_type": "code",
   "execution_count": 26,
   "metadata": {},
   "outputs": [
    {
     "name": "stdout",
     "output_type": "stream",
     "text": [
      "torch.Size([16, 6, 200, 200])\n"
     ]
    }
   ],
   "source": [
    "# model.eval()\n",
    "# with torch.no_grad():\n",
    "#     print(model.cpu()(torch.rand(16, 4, 200, 200)).shape)"
   ]
  },
  {
   "cell_type": "markdown",
   "metadata": {},
   "source": [
    "# Train"
   ]
  },
  {
   "cell_type": "markdown",
   "metadata": {},
   "source": [
    "## Training monitoring callbacks"
   ]
  },
  {
   "cell_type": "code",
   "execution_count": 53,
   "metadata": {},
   "outputs": [],
   "source": [
    "\n",
    "def get_epoch_monitor(io_handler, chkpt_interval=1, viz_root='visualizations/per_epoch'):\n",
    "    assert chkpt_interval > 0\n",
    "\n",
    "    def _monitor(model, logs):\n",
    "        epoch = len(logs['epoch']) # epoch is now 1-indexed\n",
    "        val_acc = logs['val_acc'][-1]\n",
    "        val_loss = logs['val_loss'][-1]\n",
    "        last_best_acc = logs['best_acc'][-1] if epoch > 1 else -1\n",
    "        last_best_loss = logs['best_loss'][-1] if epoch > 1 else 1e8\n",
    "\n",
    "        if epoch % chkpt_interval == 0:\n",
    "            io_handler.save_model(model, f'checkpoints/epoch_%04d' % (epoch), info=logs)\n",
    "\n",
    "        if val_acc > last_best_acc:\n",
    "            logs['best_acc'].append(val_acc)\n",
    "            io_handler.save_model(model, f'best_model/best_acc', info=logs)\n",
    "        else:\n",
    "            logs['best_acc'].append(last_best_acc)\n",
    "\n",
    "        if val_loss < last_best_loss:\n",
    "            logs['best_loss'].append(val_loss)\n",
    "            io_handler.save_model(model, f'best_model/best_loss', info=logs)\n",
    "        else:\n",
    "            logs['best_loss'].append(last_best_loss)\n",
    "\n",
    "        log_str = logs_to_str(logs)\n",
    "        print(log_str)\n",
    "        \n",
    "        print('rgb bn weight', model.rgb[1].weight.data)\n",
    "        print('rgb bn bias  ', model.rgb[1].bias.data)\n",
    "        print('---')\n",
    "        print('e bn weight', model.e[1].weight.data)\n",
    "        print('e bn bias  ', model.e[1].bias.data)\n",
    "        print('------')\n",
    "\n",
    "    return _monitor\n",
    "\n",
    "def get_batch_monitor(io_handler, viz_root='visualizations/per_batch', interval=4):\n",
    "\n",
    "    def _monitor(model, epoch, batch_idx, batch, labels):\n",
    "        pass\n",
    "\n",
    "    return _monitor\n"
   ]
  },
  {
   "cell_type": "code",
   "execution_count": 54,
   "metadata": {},
   "outputs": [],
   "source": [
    "epoch_callback = get_epoch_monitor(io_handler, chkpt_interval=CHECKPOINT_INTERVAL)\n",
    "batch_callback = get_batch_monitor(io_handler, interval=BATCH_CB_INTERVAL)"
   ]
  },
  {
   "cell_type": "code",
   "execution_count": 55,
   "metadata": {},
   "outputs": [],
   "source": [
    "train_params = {}\n",
    "train_params['batch_size'] = BATCH_SIZE\n",
    "train_params['val_batch_size'] = BATCH_SIZE"
   ]
  },
  {
   "cell_type": "code",
   "execution_count": 56,
   "metadata": {},
   "outputs": [],
   "source": [
    "train_dl = torch.utils.data.DataLoader(train_ds, sampler=train_sampler, batch_size=train_params['batch_size']    , pin_memory=False)\n",
    "val_dl   = torch.utils.data.DataLoader(val_ds  , sampler=val_sampler  , batch_size=train_params['val_batch_size'], pin_memory=False)"
   ]
  },
  {
   "cell_type": "code",
   "execution_count": 63,
   "metadata": {},
   "outputs": [
    {
     "name": "stdout",
     "output_type": "stream",
     "text": [
      "epoch               : 0\n",
      "lr                  : 0.01\n",
      "train_loss          : 2.039399300139156e-07\n",
      "val_loss            : 6.035407977833529e-07\n",
      "train_acc           : 0.9506579637527466\n",
      "val_acc             : 0.8818700909614563\n",
      "train_time          : 305.422819852829\n",
      "val_time            : 52.639190912246704\n",
      "class_0_precision   : 0.9531056880950928\n",
      "class_0_recall      : 0.9650421142578125\n",
      "class_0_fscore      : 0.9626309871673584\n",
      "class_1_precision   : 0.8701796531677246\n",
      "class_1_recall      : 0.7945263981819153\n",
      "class_1_fscore      : 0.8085860013961792\n",
      "class_2_precision   : 0.7986161708831787\n",
      "class_2_recall      : 0.84298175573349\n",
      "class_2_fscore      : 0.8337185382843018\n",
      "class_3_precision   : 0.7848424315452576\n",
      "class_3_recall      : 0.5006275773048401\n",
      "class_3_fscore      : 0.5397171378135681\n",
      "class_4_precision   : 0.898605465888977\n",
      "class_4_recall      : 0.893841028213501\n",
      "class_4_fscore      : 0.8947898149490356\n",
      "class_5_precision   : 0.8651732206344604\n",
      "class_5_recall      : 0.9079312682151794\n",
      "class_5_fscore      : 0.8990448117256165\n",
      "best_acc            : 0.8818700909614563\n",
      "best_loss           : 5.9759310033769e-07\n",
      "-----------------------------------------------------------------------------------------------\n",
      "\n",
      "rgb bn weight tensor([2.7874, 2.6055, 2.9402, 1.7252, 1.3488, 3.5152], device='cuda:0')\n",
      "rgb bn bias   tensor([ 0.1825, -0.0057,  0.4005, -0.4073, -0.8139,  0.6439], device='cuda:0')\n",
      "---\n",
      "e bn weight tensor([1.3663, 0.1808, 0.2377, 0.1165, 0.1848, 0.2780], device='cuda:0')\n",
      "e bn bias   tensor([ 0.1825, -0.0057,  0.4005, -0.4073, -0.8139,  0.6439], device='cuda:0')\n",
      "------\n",
      "epoch               : 1\n",
      "lr                  : 0.0055000000000000005\n",
      "train_loss          : 2.036549983900948e-07\n",
      "val_loss            : 5.969093876956322e-07\n",
      "train_acc           : 0.9506614208221436\n",
      "val_acc             : 0.8813558220863342\n",
      "train_time          : 309.92514061927795\n",
      "val_time            : 53.91760802268982\n",
      "class_0_precision   : 0.956575334072113\n",
      "class_0_recall      : 0.9606546759605408\n",
      "class_0_fscore      : 0.9598360061645508\n",
      "class_1_precision   : 0.8620041608810425\n",
      "class_1_recall      : 0.805802583694458\n",
      "class_1_fscore      : 0.8164488077163696\n",
      "class_2_precision   : 0.8025278449058533\n",
      "class_2_recall      : 0.8371238708496094\n",
      "class_2_fscore      : 0.8299680352210999\n",
      "class_3_precision   : 0.7546039819717407\n",
      "class_3_recall      : 0.5111483931541443\n",
      "class_3_fscore      : 0.5464054346084595\n",
      "class_4_precision   : 0.8914090991020203\n",
      "class_4_recall      : 0.8992599844932556\n",
      "class_4_fscore      : 0.8976787328720093\n",
      "class_5_precision   : 0.8649371862411499\n",
      "class_5_recall      : 0.907152533531189\n",
      "class_5_fscore      : 0.8983829021453857\n",
      "best_acc            : 0.8818700909614563\n",
      "best_loss           : 5.969093876956322e-07\n",
      "-----------------------------------------------------------------------------------------------\n",
      "\n",
      "rgb bn weight tensor([2.7991, 2.5939, 2.9376, 1.7192, 1.3428, 3.5158], device='cuda:0')\n",
      "rgb bn bias   tensor([ 0.1801, -0.0057,  0.4033, -0.4053, -0.8151,  0.6427], device='cuda:0')\n",
      "---\n",
      "e bn weight tensor([1.3472, 0.1709, 0.2404, 0.1211, 0.1815, 0.2785], device='cuda:0')\n",
      "e bn bias   tensor([ 0.1801, -0.0057,  0.4033, -0.4053, -0.8151,  0.6427], device='cuda:0')\n",
      "------\n"
     ]
    }
   ],
   "source": [
    "train_params = {}\n",
    "train_params['epochs'] = 2\n",
    "train_params['learning_rate'] = 1e-2\n",
    "train_params['learning_rate_min'] = 1e-3\n",
    "\n",
    "optimizer = optim.SGD(model.parameters(), lr=train_params['learning_rate'], momentum=MOMENTUM, weight_decay=WEIGHT_DECAY)\n",
    "sched = optim.lr_scheduler.CosineAnnealingLR(optimizer, train_params['epochs'], eta_min=train_params['learning_rate_min'])\n",
    "\n",
    "plt.ioff()\n",
    "train_seg(model, train_dl, val_dl, optimizer, sched, train_params, \n",
    "          epoch_callback=epoch_callback, batch_callback=batch_callback)"
   ]
  },
  {
   "cell_type": "code",
   "execution_count": 65,
   "metadata": {},
   "outputs": [
    {
     "data": {
      "text/plain": [
       "Sequential(\n",
       "  (0): Conv2d(96, 6, kernel_size=(1, 1), stride=(1, 1), bias=False)\n",
       "  (1): BatchNorm2d(6, eps=1e-05, momentum=0.1, affine=True, track_running_stats=True)\n",
       ")"
      ]
     },
     "execution_count": 65,
     "metadata": {},
     "output_type": "execute_result"
    }
   ],
   "source": [
    "model.e[0][-1]"
   ]
  }
 ],
 "metadata": {
  "kernelspec": {
   "display_name": "Python 3",
   "language": "python",
   "name": "python3"
  },
  "language_info": {
   "codemirror_mode": {
    "name": "ipython",
    "version": 3
   },
   "file_extension": ".py",
   "mimetype": "text/x-python",
   "name": "python",
   "nbconvert_exporter": "python",
   "pygments_lexer": "ipython3",
   "version": "3.7.3"
  }
 },
 "nbformat": 4,
 "nbformat_minor": 4
}
