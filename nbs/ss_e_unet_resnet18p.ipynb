{
 "cells": [
  {
   "cell_type": "code",
   "execution_count": null,
   "metadata": {},
   "outputs": [],
   "source": [
    "!nvidia-smi"
   ]
  },
  {
   "cell_type": "markdown",
   "metadata": {},
   "source": [
    "# Init"
   ]
  },
  {
   "cell_type": "code",
   "execution_count": null,
   "metadata": {},
   "outputs": [],
   "source": [
    "!git clone --depth=1 https://github.com/AdeelH/potsdam-batch-exp.git"
   ]
  },
  {
   "cell_type": "code",
   "execution_count": 44,
   "metadata": {},
   "outputs": [],
   "source": [
    "BATCH_SIZE = 16\n",
    "PRETRAINED = True\n",
    "LAST_CROSS = True\n",
    "\n",
    "MODEL_ARCH = 'unet'\n",
    "MODEL_BASE = 'resnet18'\n",
    "CHANNEL_VARIATION = 'e'\n",
    "MODEL_VARIATION = f'lc_{LAST_CROSS}'\n",
    "MODEL_VARIATION += f''"
   ]
  },
  {
   "cell_type": "code",
   "execution_count": 45,
   "metadata": {},
   "outputs": [
    {
     "name": "stdout",
     "output_type": "stream",
     "text": [
      "ss_e_unet_resnet18p_lc_True_bsz_16\n"
     ]
    }
   ],
   "source": [
    "EXPERIMENT_NAME = f'ss_{CHANNEL_VARIATION}_{MODEL_ARCH}_{MODEL_BASE}{\"p\" if PRETRAINED else \"\"}_{MODEL_VARIATION}_bsz_{BATCH_SIZE}'\n",
    "print(EXPERIMENT_NAME)\n",
    "\n",
    "S3_BUCKET = 'raster-vision-ahassan'\n",
    "S3_ROOT = f'potsdam/experiments/output/{EXPERIMENT_NAME}'"
   ]
  },
  {
   "cell_type": "code",
   "execution_count": 14,
   "metadata": {},
   "outputs": [],
   "source": [
    "EPOCHS = 4\n",
    "LR_START = 1e-1\n",
    "LR_END = 1e-4\n",
    "\n",
    "MOMENTUM = 0.9\n",
    "WEIGHT_DECAY = 5e-4\n",
    "\n",
    "CHECKPOINT_INTERVAL = 5\n",
    "BATCH_CB_INTERVAL = 10"
   ]
  },
  {
   "cell_type": "code",
   "execution_count": 23,
   "metadata": {},
   "outputs": [],
   "source": [
    "import os\n",
    "from pathlib import Path\n",
    "import glob\n",
    "from datetime import datetime\n",
    "\n",
    "import numpy as np\n",
    "import torch\n",
    "from torch import nn\n",
    "from torch import optim\n",
    "from torch.nn import functional as F\n",
    "import torch.utils\n",
    "import torchvision as tv\n",
    "from torchvision import transforms as tf\n",
    "\n",
    "from fastai.vision import *\n",
    "from fastai.metrics import error_rate\n",
    "\n",
    "import matplotlib.pyplot as plt\n",
    "%reload_ext autoreload\n",
    "%autoreload 2\n",
    "# %matplotlib inline"
   ]
  },
  {
   "cell_type": "code",
   "execution_count": null,
   "metadata": {},
   "outputs": [],
   "source": [
    "import sys\n",
    "sys.path.append('potsdam-batch-exp/')\n",
    "\n",
    "from utils_ import *\n",
    "from io_ import *\n",
    "from data_ import *\n",
    "from transforms import *\n",
    "from models import *\n",
    "from training import *\n",
    "from visualizations import *\n",
    "from monitoring import *"
   ]
  },
  {
   "cell_type": "code",
   "execution_count": null,
   "metadata": {},
   "outputs": [],
   "source": [
    "CHANNELS = [ch_E]\n",
    "CHIP_SIZE = 400\n",
    "STRIDE = 200\n",
    "DOWNSAMPLING = 2\n",
    "\n",
    "TRAIN_SPLIT = 0.85"
   ]
  },
  {
   "cell_type": "code",
   "execution_count": null,
   "metadata": {},
   "outputs": [],
   "source": [
    "CLASS_NAMES = ['building', 'tree', 'low-vegetation', 'clutter', 'car', 'pavement']\n",
    "NCLASSES = len(CLASS_NAMES)"
   ]
  },
  {
   "cell_type": "code",
   "execution_count": null,
   "metadata": {},
   "outputs": [],
   "source": [
    "io_handler = S3IoHandler(\n",
    "    local_root=EXPERIMENT_NAME, \n",
    "    s3_bucket=S3_BUCKET, \n",
    "    s3_root=S3_ROOT\n",
    ")"
   ]
  },
  {
   "cell_type": "markdown",
   "metadata": {},
   "source": [
    "# Data"
   ]
  },
  {
   "cell_type": "code",
   "execution_count": null,
   "metadata": {},
   "outputs": [],
   "source": [
    "potsdam_dict = io_handler.load_pickled_file('potsdam/data/potsdam.pkl', 'data/potsdam.pkl')"
   ]
  },
  {
   "cell_type": "markdown",
   "metadata": {},
   "source": [
    "## Prepare datasets"
   ]
  },
  {
   "cell_type": "code",
   "execution_count": null,
   "metadata": {},
   "outputs": [],
   "source": [
    "train_transform, val_transform, x_transform, y_transform = tfs_potsdam(channels=CHANNELS, downsampling=DOWNSAMPLING)"
   ]
  },
  {
   "cell_type": "code",
   "execution_count": null,
   "metadata": {},
   "outputs": [],
   "source": [
    "original_ds = Potsdam(potsdam_dict, chip_size=CHIP_SIZE, stride=STRIDE, tf=val_transform)\n",
    "train_ds    = Potsdam(potsdam_dict, chip_size=CHIP_SIZE, stride=STRIDE, tf=train_transform, x_tf=x_transform, y_tf=y_transform)\n",
    "val_ds      = Potsdam(potsdam_dict, chip_size=CHIP_SIZE, stride=STRIDE, tf=val_transform  , x_tf=x_transform, y_tf=y_transform)"
   ]
  },
  {
   "cell_type": "markdown",
   "metadata": {},
   "source": [
    "### Train/val split"
   ]
  },
  {
   "cell_type": "code",
   "execution_count": null,
   "metadata": {},
   "outputs": [],
   "source": [
    "train_split_size = int((len(train_ds) * TRAIN_SPLIT) // 1)\n",
    "val_split_size = len(train_ds) - train_split_size\n",
    "train_split_size, val_split_size\n",
    "\n",
    "print('train_split_size', train_split_size)\n",
    "print('val_split_size', val_split_size)\n",
    "\n",
    "inds = np.arange(len(train_ds))"
   ]
  },
  {
   "cell_type": "markdown",
   "metadata": {},
   "source": [
    "### Samplers"
   ]
  },
  {
   "cell_type": "code",
   "execution_count": null,
   "metadata": {},
   "outputs": [],
   "source": [
    "train_sampler = torch.utils.data.SubsetRandomSampler(inds[:train_split_size])\n",
    "val_sampler = torch.utils.data.SubsetRandomSampler(inds[train_split_size:])\n",
    "\n",
    "assert len(set(train_sampler.indices) & set(val_sampler.indices)) == 0"
   ]
  },
  {
   "cell_type": "markdown",
   "metadata": {},
   "source": [
    "# Model"
   ]
  },
  {
   "cell_type": "markdown",
   "metadata": {},
   "source": [
    "Use FastAI to create a UNet from a Resnet18"
   ]
  },
  {
   "cell_type": "code",
   "execution_count": null,
   "metadata": {},
   "outputs": [],
   "source": [
    "def _base_model(pretrained=False):\n",
    "    m = tv.models.resnet18(pretrained=pretrained)\n",
    "    m._modules['conv1'] = nn.Conv2d(1, 64, kernel_size=(7, 7), stride=(2, 2), padding=(3, 3), bias=False)\n",
    "    return m"
   ]
  },
  {
   "cell_type": "code",
   "execution_count": null,
   "metadata": {},
   "outputs": [],
   "source": [
    "body = create_body(_base_model, pretrained=PRETRAINED)\n",
    "model = models.unet.DynamicUnet(body, n_classes=NCLASSES, last_cross=LAST_CROSS).cuda()"
   ]
  },
  {
   "cell_type": "code",
   "execution_count": null,
   "metadata": {},
   "outputs": [],
   "source": [
    "model"
   ]
  },
  {
   "cell_type": "markdown",
   "metadata": {},
   "source": [
    "# Train"
   ]
  },
  {
   "cell_type": "markdown",
   "metadata": {},
   "source": [
    "## Training monitoring callbacks"
   ]
  },
  {
   "cell_type": "code",
   "execution_count": null,
   "metadata": {},
   "outputs": [],
   "source": [
    "\n",
    "def get_epoch_monitor(io_handler, model_name='model', chkpt_interval=1, acc_tol=0.005, viz_root='visualizations/per_epoch'):\n",
    "    assert chkpt_interval > 0 and acc_tol < 1\n",
    "\n",
    "    filter_path = f'{viz_root}/rgb_conv'\n",
    "    os.makedirs(io_handler.to_local_path(filter_path), exist_ok=True)\n",
    "\n",
    "    def _monitor(model, logs):\n",
    "        epoch = len(logs['epoch']) # epoch is now 1-indexed\n",
    "        val_acc = logs['val_acc'][-1]\n",
    "        last_best_acc = logs['best_acc'][-1] if epoch > 1 else -1\n",
    "\n",
    "        if epoch % chkpt_interval == 0:\n",
    "            io_handler.save_model(model, f'checkpoints/epoch_{epoch}', info=logs)\n",
    "\n",
    "        if val_acc >= (last_best_acc + acc_tol):\n",
    "            logs['best_acc'].append(val_acc)\n",
    "            io_handler.save_model(model, f'best_model/{model_name}', info=logs)\n",
    "        else:\n",
    "            logs['best_acc'].append(last_best_acc)\n",
    "\n",
    "        log_str = logs_to_str(logs)\n",
    "        print(log_str)\n",
    "\n",
    "        io_handler.save_log('logs.pkl', logs)\n",
    "        io_handler.save_log_str(f'logs.txt', log_str)\n",
    "\n",
    "        fig = viz_conv_layer_filters(model[0][0].weight.data, scale_each=False, padding=1)\n",
    "        io_handler.save_img(fig, f'{filter_path}/epoch_%04d' % (epoch))\n",
    "        plt.close(fig)\n",
    "\n",
    "        fig = plot_lr(logs['epoch'], logs['lr'])\n",
    "        io_handler.save_img(fig, f'visualizations/lr')\n",
    "        plt.close(fig)\n",
    "\n",
    "        fig = plot_losses(logs['epoch'], logs['train_loss'], logs['val_loss'])\n",
    "        io_handler.save_img(fig, f'visualizations/loss')\n",
    "        plt.close(fig)\n",
    "\n",
    "        fig = plot_accs(logs['epoch'], logs['train_acc'], logs['val_acc'])\n",
    "        io_handler.save_img(fig, f'visualizations/accuracy')\n",
    "        plt.close(fig)\n",
    "\n",
    "        stat_figs = plot_class_stats(logs)\n",
    "        for stat, fig in stat_figs:\n",
    "            io_handler.save_img(fig, f'visualizations/{stat}')\n",
    "            plt.close(fig)\n",
    "\n",
    "    return _monitor\n",
    "\n",
    "def get_batch_monitor(io_handler, viz_root='visualizations/per_batch', interval=4):\n",
    "\n",
    "    filter_path = f'{viz_root}/rgb_conv'\n",
    "    grad_path = f'{viz_root}/rgb_conv_grad'\n",
    "    os.makedirs(io_handler.to_local_path(filter_path), exist_ok=True)\n",
    "    os.makedirs(io_handler.to_local_path(grad_path), exist_ok=True)\n",
    "\n",
    "    def _monitor(model, epoch, batch_idx, batch, labels):\n",
    "        if batch_idx % interval != 0:\n",
    "            return\n",
    "\n",
    "        fs = model[0][0].weight\n",
    "\n",
    "        fig = viz_conv_layer_filters(fs.data, scale_each=False, padding=1)\n",
    "        title = 'epoch %04d, batch %05d' % (epoch, batch_idx)\n",
    "        io_handler.save_img(fig, f'{filter_path}/epoch_%04d_batch_%05d' % (epoch, batch_idx))\n",
    "        plt.close(fig)\n",
    "\n",
    "        fig = viz_conv_layer_filters(fs.grad.data, scale_each=False, padding=1)\n",
    "        io_handler.save_img(fig, f'{grad_path}/epoch_%04d_batch_%05d' % (epoch, batch_idx))\n",
    "        plt.close(fig)\n",
    "\n",
    "    return _monitor\n"
   ]
  },
  {
   "cell_type": "code",
   "execution_count": null,
   "metadata": {},
   "outputs": [],
   "source": [
    "epoch_callback = get_epoch_monitor(io_handler, EXPERIMENT_NAME, chkpt_interval=CHECKPOINT_INTERVAL)\n",
    "batch_callback = get_batch_monitor(io_handler, interval=BATCH_CB_INTERVAL)"
   ]
  },
  {
   "cell_type": "code",
   "execution_count": null,
   "metadata": {},
   "outputs": [],
   "source": [
    "train_params = {}\n",
    "train_params['batch_size'] = BATCH_SIZE\n",
    "train_params['val_batch_size'] = BATCH_SIZE"
   ]
  },
  {
   "cell_type": "code",
   "execution_count": null,
   "metadata": {},
   "outputs": [],
   "source": [
    "train_dl = torch.utils.data.DataLoader(train_ds, sampler=train_sampler, batch_size=train_params['batch_size']    , pin_memory=False)\n",
    "val_dl   = torch.utils.data.DataLoader(val_ds  , sampler=val_sampler  , batch_size=train_params['val_batch_size'], pin_memory=False)"
   ]
  },
  {
   "cell_type": "code",
   "execution_count": null,
   "metadata": {},
   "outputs": [],
   "source": [
    "train_params = {}\n",
    "train_params['epochs'] = EPOCHS\n",
    "train_params['learning_rate'] = LR_START\n",
    "train_params['learning_rate_min'] = LR_END\n",
    "\n",
    "optimizer = optim.SGD(model.parameters(), lr=train_params['learning_rate'], momentum=MOMENTUM, weight_decay=WEIGHT_DECAY)\n",
    "sched = optim.lr_scheduler.CosineAnnealingLR(optimizer, train_params['epochs'], eta_min=train_params['learning_rate_min'])\n",
    "\n",
    "plt.ioff()\n",
    "train_seg(model, train_dl, val_dl, optimizer, sched, train_params, \n",
    "          epoch_callback=epoch_callback, batch_callback=batch_callback)"
   ]
  },
  {
   "cell_type": "code",
   "execution_count": null,
   "metadata": {},
   "outputs": [],
   "source": [
    "!apt update -y\n",
    "!apt install ffmpeg -y"
   ]
  },
  {
   "cell_type": "code",
   "execution_count": null,
   "metadata": {},
   "outputs": [],
   "source": [
    "!ffmpeg -framerate 15 -pattern_type glob -i \"$EXPERIMENT_NAME/visualizations/per_batch/rgb_conv/*.png\" -c:v libx264 \\\n",
    "    -pix_fmt yuv420p \"$EXPERIMENT_NAME/visualizations/per_batch/rgb_conv/out.mp4\" -y;\n",
    "!ffmpeg -framerate 15 -pattern_type glob -i \"$EXPERIMENT_NAME/visualizations/per_batch/rgb_conv_grad/*.png\" -c:v libx264 \\\n",
    "    -pix_fmt yuv420p \"$EXPERIMENT_NAME/visualizations/per_batch/rgb_conv_grad/out.mp4\" -y;"
   ]
  }
 ],
 "metadata": {
  "kernelspec": {
   "display_name": "Python 3",
   "language": "python",
   "name": "python3"
  },
  "language_info": {
   "codemirror_mode": {
    "name": "ipython",
    "version": 3
   },
   "file_extension": ".py",
   "mimetype": "text/x-python",
   "name": "python",
   "nbconvert_exporter": "python",
   "pygments_lexer": "ipython3",
   "version": "3.7.3"
  }
 },
 "nbformat": 4,
 "nbformat_minor": 4
}
