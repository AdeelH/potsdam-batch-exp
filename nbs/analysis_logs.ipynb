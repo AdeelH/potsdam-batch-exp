{
 "cells": [
  {
   "cell_type": "code",
   "execution_count": 1,
   "metadata": {},
   "outputs": [],
   "source": [
    "import os\n",
    "from pathlib import Path\n",
    "import glob\n",
    "from datetime import datetime\n",
    "\n",
    "import numpy as np\n",
    "import torch\n",
    "from torch import nn\n",
    "from torch import optim\n",
    "from torch.nn import functional as F\n",
    "import torch.utils\n",
    "import torchvision as tv\n",
    "from torchvision import transforms as tf\n",
    "\n",
    "from fastai.vision import *\n",
    "from fastai.metrics import error_rate\n",
    "\n",
    "import matplotlib.pyplot as plt\n",
    "%reload_ext autoreload\n",
    "%autoreload 2\n",
    "# %matplotlib inline"
   ]
  },
  {
   "cell_type": "code",
   "execution_count": 2,
   "metadata": {},
   "outputs": [],
   "source": [
    "import sys\n",
    "sys.path.append('../')"
   ]
  },
  {
   "cell_type": "code",
   "execution_count": 3,
   "metadata": {},
   "outputs": [],
   "source": [
    "from utils_ import *\n",
    "import utils_\n",
    "from io_ import *\n",
    "from data_ import *\n",
    "from transforms import *\n",
    "from models import *\n",
    "from training import *\n",
    "from visualizations import *\n",
    "from monitoring import *\n",
    "%reload_ext autoreload\n",
    "%autoreload 2"
   ]
  },
  {
   "cell_type": "code",
   "execution_count": 4,
   "metadata": {},
   "outputs": [],
   "source": [
    "CLASS_NAMES = ['building', 'tree', 'low-vegetation', 'clutter', 'car', 'pavement']\n",
    "NCLASSES = len(CLASS_NAMES)"
   ]
  },
  {
   "cell_type": "code",
   "execution_count": 5,
   "metadata": {},
   "outputs": [],
   "source": [
    "S3_BUCKET = 'raster-vision-ahassan'\n",
    "S3_ROOT = f'potsdam/experiments/output'"
   ]
  },
  {
   "cell_type": "code",
   "execution_count": 6,
   "metadata": {},
   "outputs": [],
   "source": [
    "io_handler = S3IoHandler(\n",
    "    local_root='tmp', \n",
    "    s3_bucket=S3_BUCKET, \n",
    "    s3_root=S3_ROOT\n",
    ")"
   ]
  },
  {
   "cell_type": "code",
   "execution_count": 75,
   "metadata": {},
   "outputs": [],
   "source": [
    "# for i in range(NCLASSES):\n",
    "#     p, r = logs[f'class_{i}_precision'], logs[f'class_{i}_recall']\n",
    "#     f1, f2 = utils_.fbeta(p,r, 1), utils_.fbeta(p,r, 2)\n",
    "#     print('%-15s' % CLASS_NAMES[i], '%2d' % np.argmax(f1), np.max(f1))\n",
    "#     print('%-15s' % CLASS_NAMES[i], '%2d' % np.argmax(f2), np.max(f2))"
   ]
  },
  {
   "cell_type": "code",
   "execution_count": 46,
   "metadata": {},
   "outputs": [],
   "source": [
    "name = 'ss_rgb_deeplab_resnet101p'\n",
    "logs = io_handler.load_pickled_file(s3_path=f'{S3_ROOT}/{name}/logs.pkl', tgt_path=f'logs_{name}', force_download=False)\n",
    "logs = {k: np.array(v) for k, v in logs.items()}"
   ]
  },
  {
   "cell_type": "code",
   "execution_count": 37,
   "metadata": {},
   "outputs": [],
   "source": [
    "p = np.concatenate([logs[f'class_{i}_precision'][:, None] for i in range(NCLASSES)], axis=-1)\n",
    "r = np.concatenate([logs[f'class_{i}_recall'][:, None] for i in range(NCLASSES)], axis=-1)\n",
    "f1, f2 = utils_.fbeta(p,r, 1), utils_.fbeta(p,r, 2)\n",
    "f1[np.isnan(f1)] = 0\n",
    "f2[np.isnan(f2)] = 0"
   ]
  },
  {
   "cell_type": "code",
   "execution_count": 15,
   "metadata": {},
   "outputs": [
    {
     "name": "stdout",
     "output_type": "stream",
     "text": [
      "deeplab, RGBE, 1, building, 0.966737, 0.973376\n",
      "deeplab, RGBE, 1, tree, 0.881496, 0.844353\n",
      "deeplab, RGBE, 1, low-vegetation, 0.838214, 0.853859\n",
      "deeplab, RGBE, 1, clutter, 0.782022, 0.532222\n",
      "deeplab, RGBE, 1, car, 0.906052, 0.887598\n",
      "deeplab, RGBE, 1, pavement, 0.879493, 0.923765\n"
     ]
    }
   ],
   "source": [
    "idx = np.argmax(f1.mean(axis=-1))\n",
    "for i in range(NCLASSES):\n",
    "    print('%s, %s, %d, %s, %f, %f' % ('deeplab', 'RGBE', 1, CLASS_NAMES[i], p[idx, i], r[idx, i]))"
   ]
  },
  {
   "cell_type": "code",
   "execution_count": 163,
   "metadata": {},
   "outputs": [
    {
     "name": "stdout",
     "output_type": "stream",
     "text": [
      "77\n",
      "0.9509671926498413,0.8361125588417053,0.793807864189148,0.742587685585022,0.8820816874504089,0.8612779974937439\n",
      "0.9544430375099182,0.7996278405189514,0.820135235786438,0.4991568326950073,0.8787941336631775,0.9010058045387268\n"
     ]
    }
   ],
   "source": [
    "# idx = np.argmax(f1.mean(axis=-1))\n",
    "# print(idx)\n",
    "# # print('precision')\n",
    "# print(','.join(map(str, p[idx])))\n",
    "# # print('recall')\n",
    "# print(','.join(map(str, r[idx])))\n",
    "# # print('f1')\n",
    "# # print(f1[idx])\n",
    "# # print('f2')\n",
    "# # print(f2[idx])"
   ]
  },
  {
   "cell_type": "code",
   "execution_count": 153,
   "metadata": {},
   "outputs": [
    {
     "name": "stdout",
     "output_type": "stream",
     "text": [
      "+----------+\n",
      "| 0.592279 |\n",
      "+----------+\n",
      "| 0.54148  |\n",
      "+----------+\n"
     ]
    }
   ],
   "source": [
    "import tabulate\n",
    "print(tabulate.tabulate(f1.mean(axis=-1)[idx:idx+2, None], tablefmt='grid'))"
   ]
  },
  {
   "cell_type": "code",
   "execution_count": 45,
   "metadata": {},
   "outputs": [],
   "source": [
    "logs_nopt = logs"
   ]
  },
  {
   "cell_type": "code",
   "execution_count": 64,
   "metadata": {},
   "outputs": [
    {
     "data": {
      "text/plain": [
       "(100,)"
      ]
     },
     "execution_count": 64,
     "metadata": {},
     "output_type": "execute_result"
    }
   ],
   "source": [
    "ptacc = np.zeros((100,))\n",
    "ptacc[:40] = logs['val_acc']\n",
    "ptacc[40:] = max(logs['val_acc'])\n",
    "ptacc.shape"
   ]
  },
  {
   "cell_type": "code",
   "execution_count": 77,
   "metadata": {},
   "outputs": [
    {
     "data": {
      "image/png": "[encoded data removed]",
      "text/plain": [
       "<Figure size 576x432 with 1 Axes>"
      ]
     },
     "metadata": {
      "needs_background": "light"
     },
     "output_type": "display_data"
    }
   ],
   "source": [
    "plt.figure(figsize=(8, 6))\n",
    "plt.plot(logs1['epoch'], logs1['val_acc'])\n",
    "plt.plot(logs['epoch'], logs['val_acc'])\n",
    "plt.hlines(max(logs['val_acc']), xmin=40-1, xmax=100, ls=':', color='orange')\n",
    "plt.xlabel('epoch')\n",
    "plt.ylabel('Accuracy')\n",
    "plt.show()"
   ]
  }
 ],
 "metadata": {
  "kernelspec": {
   "display_name": "Python 3",
   "language": "python",
   "name": "python3"
  },
  "language_info": {
   "codemirror_mode": {
    "name": "ipython",
    "version": 3
   },
   "file_extension": ".py",
   "mimetype": "text/x-python",
   "name": "python",
   "nbconvert_exporter": "python",
   "pygments_lexer": "ipython3",
   "version": "3.7.3"
  }
 },
 "nbformat": 4,
 "nbformat_minor": 4
}
