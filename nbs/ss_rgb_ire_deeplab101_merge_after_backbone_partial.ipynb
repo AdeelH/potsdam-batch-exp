{
 "cells": [
  {
   "cell_type": "code",
   "execution_count": null,
   "metadata": {},
   "outputs": [],
   "source": [
    "!nvidia-smi"
   ]
  },
  {
   "cell_type": "markdown",
   "metadata": {},
   "source": [
    "# Init"
   ]
  },
  {
   "cell_type": "code",
   "execution_count": 35,
   "metadata": {},
   "outputs": [
    {
     "name": "stdout",
     "output_type": "stream",
     "text": [
      "Cloning into 'potsdam-batch-exp'...\n",
      "remote: Enumerating objects: 16, done.\u001b[K\n",
      "remote: Counting objects: 100% (16/16), done.\u001b[K\n",
      "remote: Compressing objects: 100% (13/13), done.\u001b[K\n",
      "remote: Total 16 (delta 2), reused 14 (delta 1), pack-reused 0\u001b[K\n",
      "Unpacking objects: 100% (16/16), done.\n"
     ]
    }
   ],
   "source": [
    "!git clone --depth=1 https://github.com/AdeelH/potsdam-batch-exp.git"
   ]
  },
  {
   "cell_type": "code",
   "execution_count": 1,
   "metadata": {},
   "outputs": [],
   "source": [
    "BATCH_SIZE = 16\n",
    "PRETRAINED = True\n",
    "\n",
    "MODEL_ARCH = 'deeplab'\n",
    "MODEL_BASE = 'resnet101'\n",
    "CHANNEL_VARIATION = 'rgbp_irep'\n",
    "MODEL_VARIATION = f''\n",
    "\n",
    "CUT = 7"
   ]
  },
  {
   "cell_type": "code",
   "execution_count": 2,
   "metadata": {},
   "outputs": [
    {
     "name": "stdout",
     "output_type": "stream",
     "text": [
      "ss_rgbp_irep_deeplab_resnet101p_merge_after_backbone_partial_7\n"
     ]
    }
   ],
   "source": [
    "EXPERIMENT_NAME = f'ss_{CHANNEL_VARIATION}_{MODEL_ARCH}_{MODEL_BASE}{\"p\" if PRETRAINED else \"\"}_merge_after_backbone_partial_{CUT}'\n",
    "print(EXPERIMENT_NAME)\n",
    "\n",
    "S3_BUCKET = 'raster-vision-ahassan'\n",
    "S3_ROOT = f'potsdam/experiments/output/{EXPERIMENT_NAME}'"
   ]
  },
  {
   "cell_type": "code",
   "execution_count": 3,
   "metadata": {},
   "outputs": [],
   "source": [
    "EPOCHS = 50\n",
    "LR_START = 1e-2\n",
    "LR_END = 1e-4\n",
    "\n",
    "MOMENTUM = 0.9\n",
    "WEIGHT_DECAY = 5e-4\n",
    "\n",
    "CHECKPOINT_INTERVAL = 5\n",
    "BATCH_CB_INTERVAL = 10"
   ]
  },
  {
   "cell_type": "code",
   "execution_count": 4,
   "metadata": {
    "jupyter": {
     "source_hidden": true
    }
   },
   "outputs": [],
   "source": [
    "import os\n",
    "from pathlib import Path\n",
    "import glob\n",
    "from datetime import datetime\n",
    "\n",
    "import numpy as np\n",
    "import torch\n",
    "from torch import nn\n",
    "from torch import optim\n",
    "from torch.nn import functional as F\n",
    "import torch.utils\n",
    "import torchvision as tv\n",
    "from torchvision import transforms as tf\n",
    "\n",
    "from fastai.vision import *\n",
    "from fastai.metrics import error_rate\n",
    "\n",
    "import matplotlib.pyplot as plt\n",
    "%reload_ext autoreload\n",
    "%autoreload 2\n",
    "# %matplotlib inline"
   ]
  },
  {
   "cell_type": "code",
   "execution_count": 5,
   "metadata": {},
   "outputs": [],
   "source": [
    "import sys\n",
    "sys.path.append('potsdam-batch-exp/')\n",
    "\n",
    "from utils_ import *\n",
    "from io_ import *\n",
    "from data_ import *\n",
    "from transforms import *\n",
    "from models import *\n",
    "from training import *\n",
    "from visualizations import *\n",
    "from monitoring import *"
   ]
  },
  {
   "cell_type": "code",
   "execution_count": 6,
   "metadata": {},
   "outputs": [],
   "source": [
    "CHANNELS = [ch_R, ch_G, ch_B, ch_IR, ch_E]\n",
    "CHIP_SIZE = 400\n",
    "STRIDE = 200\n",
    "DOWNSAMPLING = 2\n",
    "\n",
    "TRAIN_SPLIT = 0.85"
   ]
  },
  {
   "cell_type": "code",
   "execution_count": 7,
   "metadata": {
    "jupyter": {
     "source_hidden": true
    }
   },
   "outputs": [],
   "source": [
    "CLASS_NAMES = ['building', 'tree', 'low-vegetation', 'clutter', 'car', 'pavement']\n",
    "NCLASSES = len(CLASS_NAMES)"
   ]
  },
  {
   "cell_type": "code",
   "execution_count": 9,
   "metadata": {},
   "outputs": [],
   "source": [
    "io_handler = S3IoHandler(\n",
    "    local_root=EXPERIMENT_NAME, \n",
    "    s3_bucket=S3_BUCKET, \n",
    "    s3_root=S3_ROOT\n",
    ")"
   ]
  },
  {
   "cell_type": "markdown",
   "metadata": {},
   "source": [
    "# Data"
   ]
  },
  {
   "cell_type": "code",
   "execution_count": null,
   "metadata": {
    "jupyter": {
     "source_hidden": true
    }
   },
   "outputs": [],
   "source": [
    "potsdam_dict = io_handler.load_pickled_file('potsdam/data/potsdam.pkl', 'data/potsdam.pkl')"
   ]
  },
  {
   "cell_type": "markdown",
   "metadata": {
    "jupyter": {
     "source_hidden": true
    }
   },
   "source": [
    "## Prepare datasets"
   ]
  },
  {
   "cell_type": "code",
   "execution_count": null,
   "metadata": {
    "jupyter": {
     "source_hidden": true
    }
   },
   "outputs": [],
   "source": [
    "train_transform, val_transform, x_transform, y_transform = tfs_potsdam(channels=CHANNELS, downsampling=DOWNSAMPLING)"
   ]
  },
  {
   "cell_type": "code",
   "execution_count": null,
   "metadata": {
    "jupyter": {
     "source_hidden": true
    }
   },
   "outputs": [],
   "source": [
    "original_ds = Potsdam(potsdam_dict, chip_size=CHIP_SIZE, stride=STRIDE, tf=val_transform)\n",
    "train_ds    = Potsdam(potsdam_dict, chip_size=CHIP_SIZE, stride=STRIDE, tf=train_transform, x_tf=x_transform, y_tf=y_transform)\n",
    "val_ds      = Potsdam(potsdam_dict, chip_size=CHIP_SIZE, stride=STRIDE, tf=val_transform  , x_tf=x_transform, y_tf=y_transform)"
   ]
  },
  {
   "cell_type": "markdown",
   "metadata": {
    "jupyter": {
     "source_hidden": true
    }
   },
   "source": [
    "### Train/val split"
   ]
  },
  {
   "cell_type": "code",
   "execution_count": null,
   "metadata": {
    "jupyter": {
     "source_hidden": true
    }
   },
   "outputs": [],
   "source": [
    "train_split_size = int((len(train_ds) * TRAIN_SPLIT) // 1)\n",
    "val_split_size = len(train_ds) - train_split_size\n",
    "train_split_size, val_split_size\n",
    "\n",
    "print('train_split_size', train_split_size)\n",
    "print('val_split_size', val_split_size)\n",
    "\n",
    "inds = np.arange(len(train_ds))"
   ]
  },
  {
   "cell_type": "markdown",
   "metadata": {
    "jupyter": {
     "source_hidden": true
    }
   },
   "source": [
    "### Samplers"
   ]
  },
  {
   "cell_type": "code",
   "execution_count": null,
   "metadata": {
    "jupyter": {
     "source_hidden": true
    }
   },
   "outputs": [],
   "source": [
    "train_sampler = torch.utils.data.SubsetRandomSampler(inds[:train_split_size])\n",
    "val_sampler = torch.utils.data.SubsetRandomSampler(inds[train_split_size:])\n",
    "\n",
    "assert len(set(train_sampler.indices) & set(val_sampler.indices)) == 0"
   ]
  },
  {
   "cell_type": "markdown",
   "metadata": {},
   "source": [
    "# Model"
   ]
  },
  {
   "cell_type": "code",
   "execution_count": 14,
   "metadata": {},
   "outputs": [],
   "source": [
    "model = get_deeplab_custom(NCLASSES, in_channels=3, pretrained=True)\n",
    "model_ire = get_deeplab_custom(NCLASSES, in_channels=2, pretrained=True)"
   ]
  },
  {
   "cell_type": "code",
   "execution_count": 32,
   "metadata": {},
   "outputs": [],
   "source": [
    "name = 'ss_ire_deeplab_resnet101p'\n",
    "io_handler.load_model_weights(\n",
    "    model_ire, \n",
    "    s3_path=f'potsdam/experiments/output/{name}/best_model/best_acc', \n",
    "    tgt_path=f'models/{name}'\n",
    ")"
   ]
  },
  {
   "cell_type": "code",
   "execution_count": 33,
   "metadata": {},
   "outputs": [],
   "source": [
    "name = 'ss_rgb_deeplab_resnet101p'\n",
    "io_handler.load_model_weights(\n",
    "    model, \n",
    "    s3_path=f'potsdam/experiments/output/{name}/best_model/best_acc', \n",
    "    tgt_path=f'models/{name}'\n",
    ")"
   ]
  },
  {
   "cell_type": "code",
   "execution_count": 15,
   "metadata": {},
   "outputs": [],
   "source": [
    "model.m.backbone = DeeplabDoublePartialBackbone(model.m.backbone, model_ire.m.backbone, CUT)\n",
    "model = model.cuda()"
   ]
  },
  {
   "cell_type": "code",
   "execution_count": 20,
   "metadata": {},
   "outputs": [],
   "source": [
    "freeze(model.m.backbone.head)"
   ]
  },
  {
   "cell_type": "markdown",
   "metadata": {},
   "source": [
    "# Train"
   ]
  },
  {
   "cell_type": "markdown",
   "metadata": {},
   "source": [
    "## Training monitoring callbacks"
   ]
  },
  {
   "cell_type": "code",
   "execution_count": null,
   "metadata": {},
   "outputs": [],
   "source": [
    "\n",
    "def get_epoch_monitor(io_handler, chkpt_interval=1, viz_root='visualizations/per_epoch'):\n",
    "    assert chkpt_interval > 0\n",
    "\n",
    "    def _monitor(model, optimizer, sched, logs):\n",
    "        epoch = logs['epoch'][-1]\n",
    "\n",
    "        track_best_model(io_handler, model, logs)\n",
    "\n",
    "        if epoch % chkpt_interval == 0:\n",
    "            io_handler.save_checkpoint(model, optimizer, sched, f'checkpoints/epoch_%04d' % (epoch), info=logs)\n",
    "\n",
    "        log_str = logs_to_str(logs)\n",
    "        print(log_str)\n",
    "\n",
    "        io_handler.save_log('logs.pkl', logs)\n",
    "        io_handler.save_log_str(f'logs.txt', log_str)\n",
    "        \n",
    "        make_plots(io_handler, logs)\n",
    "\n",
    "        if epoch >= 9:\n",
    "            unfreeze(model)\n",
    "\n",
    "    return _monitor\n",
    "\n",
    "def get_batch_monitor(io_handler, viz_root='visualizations/per_batch', interval=4):\n",
    "\n",
    "    def _monitor(model, epoch, batch_idx, batch, labels):\n",
    "        pass\n",
    "\n",
    "    return _monitor\n"
   ]
  },
  {
   "cell_type": "code",
   "execution_count": null,
   "metadata": {},
   "outputs": [],
   "source": [
    "epoch_callback = get_epoch_monitor(io_handler, chkpt_interval=CHECKPOINT_INTERVAL)\n",
    "batch_callback = get_batch_monitor(io_handler, interval=BATCH_CB_INTERVAL)"
   ]
  },
  {
   "cell_type": "code",
   "execution_count": null,
   "metadata": {},
   "outputs": [],
   "source": [
    "train_params = {}\n",
    "train_params['batch_size'] = BATCH_SIZE\n",
    "train_params['val_batch_size'] = BATCH_SIZE"
   ]
  },
  {
   "cell_type": "code",
   "execution_count": null,
   "metadata": {},
   "outputs": [],
   "source": [
    "train_dl = torch.utils.data.DataLoader(train_ds, sampler=train_sampler, batch_size=train_params['batch_size']    , pin_memory=False)\n",
    "val_dl   = torch.utils.data.DataLoader(val_ds  , sampler=val_sampler  , batch_size=train_params['val_batch_size'], pin_memory=False)"
   ]
  },
  {
   "cell_type": "code",
   "execution_count": null,
   "metadata": {},
   "outputs": [],
   "source": [
    "train_params = {}\n",
    "train_params['epochs'] = EPOCHS\n",
    "train_params['learning_rate'] = LR_START\n",
    "train_params['learning_rate_min'] = LR_END\n",
    "\n",
    "optimizer = optim.SGD(model.parameters(), lr=train_params['learning_rate'], momentum=MOMENTUM, weight_decay=WEIGHT_DECAY)\n",
    "sched = optim.lr_scheduler.CosineAnnealingLR(optimizer, train_params['epochs'], eta_min=train_params['learning_rate_min'])\n"
   ]
  },
  {
   "cell_type": "code",
   "execution_count": null,
   "metadata": {},
   "outputs": [],
   "source": [
    "from collections import defaultdict\n",
    "\n",
    "if io_handler.checkpoint_exists():\n",
    "    logs = restore_training_state(io_handler, model, optimizer, sched, train_params)\n",
    "else:\n",
    "    logs = defaultdict(list)\n",
    "\n",
    "print(logs)"
   ]
  },
  {
   "cell_type": "code",
   "execution_count": null,
   "metadata": {},
   "outputs": [],
   "source": [
    "plt.ioff()\n",
    "train_seg(model, train_dl, val_dl, optimizer, sched, train_params, \n",
    "          epoch_callback=epoch_callback, batch_callback=batch_callback, logs=logs)"
   ]
  }
 ],
 "metadata": {
  "kernelspec": {
   "display_name": "Python 3",
   "language": "python",
   "name": "python3"
  },
  "language_info": {
   "codemirror_mode": {
    "name": "ipython",
    "version": 3
   },
   "file_extension": ".py",
   "mimetype": "text/x-python",
   "name": "python",
   "nbconvert_exporter": "python",
   "pygments_lexer": "ipython3",
   "version": "3.7.3"
  }
 },
 "nbformat": 4,
 "nbformat_minor": 4
}
